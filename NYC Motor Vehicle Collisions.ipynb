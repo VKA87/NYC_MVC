{
 "cells": [
  {
   "cell_type": "markdown",
   "metadata": {},
   "source": [
    "# NYC Motor Vehicle Collisions\n",
    "\n",
    "## Import Libraries and Data"
   ]
  },
  {
   "cell_type": "code",
   "execution_count": null,
   "metadata": {},
   "outputs": [],
   "source": [
    "# Data libraries\n",
    "import pandas as pd\n",
    "import numpy as np\n",
    "import datetime\n",
    "\n",
    "# Regex\n",
    "import re\n",
    "\n",
    "# Maps\n",
    "from mpl_toolkits.basemap import Basemap\n",
    "\n",
    "# Plot libraries\n",
    "import matplotlib as mpl\n",
    "import matplotlib.pyplot as plt\n",
    "import matplotlib.patches as patches\n",
    "import matplotlib.dates as mdates\n",
    "mpl.rc('font',family='Open Sans') # change the font of the plot\n",
    "\n",
    "import seaborn as sns\n",
    "% matplotlib inline"
   ]
  },
  {
   "cell_type": "markdown",
   "metadata": {},
   "source": [
    "### Data: Collisions"
   ]
  },
  {
   "cell_type": "markdown",
   "metadata": {},
   "source": [
    "The data is collected from:\n",
    "https://data.cityofnewyork.us/Public-Safety/NYPD-Motor-Vehicle-Collisions/h9gi-nx95"
   ]
  },
  {
   "cell_type": "code",
   "execution_count": null,
   "metadata": {
    "scrolled": false
   },
   "outputs": [],
   "source": [
    "df_collision = pd.read_csv('Collisions.csv',low_memory=False)\n",
    "df_collision.rename({'VEHICLE_TYPE_CODE1':'VEHICLE_TYPE_CODE_1', \n",
    "                     'VEHICLE_TYPE_CODE2':'VEHICLE_TYPE_CODE_2'}, axis='columns',inplace=True)\n",
    "df_collision.head(2)"
   ]
  },
  {
   "cell_type": "code",
   "execution_count": null,
   "metadata": {},
   "outputs": [],
   "source": [
    "df_collision.info()"
   ]
  },
  {
   "cell_type": "markdown",
   "metadata": {},
   "source": [
    "First, notice that some of the location features are missing. In fact about 15% of the entries have no location information whatsoever:"
   ]
  },
  {
   "cell_type": "code",
   "execution_count": null,
   "metadata": {},
   "outputs": [],
   "source": [
    "no_loc = df_collision[['BOROUGH',\n",
    "                       'ZIP_CODE',\n",
    "                       'LATITUDE', \n",
    "                       'LONGITUDE','LOCATION']].isnull().all(1).sum()\n",
    "print('Proportion of data with no location information: ',no_loc/len(df_collision)*100,'%')"
   ]
  },
  {
   "cell_type": "markdown",
   "metadata": {},
   "source": [
    "Let us clean the data frame up a bit. First change DATE and TIME into a datetime object:"
   ]
  },
  {
   "cell_type": "code",
   "execution_count": null,
   "metadata": {
    "scrolled": true
   },
   "outputs": [],
   "source": [
    "def to_date(date):\n",
    "    '''\n",
    "    Change a string \"month/day/year\" into a datetime object\n",
    "    '''\n",
    "    return datetime.datetime.strptime(date,'%Y-%m-%d')\n",
    "\n",
    "def to_time(time):\n",
    "    '''\n",
    "    Change a string \"hour:minutde\" into a datetime object\n",
    "    '''\n",
    "    return datetime.datetime.strptime(time,'%H:%M').time();\n",
    "\n",
    "if df_collision['DATE'].dtype == 'O':\n",
    "    df_collision['DATE'] = df_collision['DATE'].apply(lambda x: x[:10])\n",
    "    df_collision['DATE'] = df_collision['DATE'].apply(to_date)\n",
    "    \n",
    "if df_collision['TIME'].dtype == 'O':\n",
    "    df_collision['TIME'] = df_collision['TIME'].apply(to_time)"
   ]
  },
  {
   "cell_type": "markdown",
   "metadata": {},
   "source": [
    "Let us change the zip code into integer and assign missing values to -1"
   ]
  },
  {
   "cell_type": "code",
   "execution_count": null,
   "metadata": {},
   "outputs": [],
   "source": [
    "if df_collision['ZIP_CODE'].dtype == 'O':\n",
    "    # find the missing zip code\n",
    "    null_zip = (df_collision['ZIP_CODE'].isnull())|(df_collision['ZIP_CODE'].str.strip()=='')\n",
    "    # assign missing zip code to -1\n",
    "    df_collision['ZIP_CODE'] = np.where(null_zip ,-1,df_collision['ZIP_CODE'].str.strip())\n",
    "    # convert to int\n",
    "    df_collision['ZIP_CODE'] = df_collision['ZIP_CODE'].astype(int)"
   ]
  },
  {
   "cell_type": "markdown",
   "metadata": {},
   "source": [
    "Remove: \n",
    "   - LOCATION attribute since it is redundant (if LATITUDE and LONGITUDE is missing than so is the LOCATION feature so it can't be used to complete the data).\n",
    "   \n",
    "   - UNIQUE KEY since it is not clear what it refers to"
   ]
  },
  {
   "cell_type": "code",
   "execution_count": null,
   "metadata": {},
   "outputs": [],
   "source": [
    "if 'LOCATION' in df_collision.columns:\n",
    "    del df_collision['LOCATION']\n",
    "\n",
    "if 'UNIQUE_KEY' in df_collision.columns:\n",
    "    del df_collision['UNIQUE_KEY']\n",
    "    "
   ]
  },
  {
   "cell_type": "code",
   "execution_count": null,
   "metadata": {
    "scrolled": true
   },
   "outputs": [],
   "source": [
    "N_collision = len(df_collision)\n",
    "print(\"Number of collisions reported: \", N_collision)"
   ]
  },
  {
   "cell_type": "markdown",
   "metadata": {},
   "source": [
    "### Data: Traffic Volume"
   ]
  },
  {
   "cell_type": "code",
   "execution_count": null,
   "metadata": {
    "scrolled": false
   },
   "outputs": [],
   "source": [
    "df_traffic = pd.read_csv('Traffic_Volume.csv')\n",
    "df_traffic.head(2)"
   ]
  },
  {
   "cell_type": "code",
   "execution_count": null,
   "metadata": {
    "scrolled": false
   },
   "outputs": [],
   "source": [
    "df_traffic.info()"
   ]
  },
  {
   "cell_type": "markdown",
   "metadata": {},
   "source": [
    "Some borough are missing"
   ]
  },
  {
   "cell_type": "markdown",
   "metadata": {},
   "source": [
    "<b> Clean up <b/>"
   ]
  },
  {
   "cell_type": "code",
   "execution_count": null,
   "metadata": {},
   "outputs": [],
   "source": [
    "hours = df_traffic.columns[df_traffic.columns.str.match(r'_[\\d]+_00_[\\d]+_00')]\n",
    "\n",
    "def to_time(time):\n",
    "\n",
    "    match = re.findall(r'_([\\d]+)_00_([\\d]+)_00[_]*(\\w)\\w',time)\n",
    "    \n",
    "    if match:\n",
    "        h1 = int(match[0][0])\n",
    "        h2 = int(match[0][1])\n",
    "        ampm = match[0][2]\n",
    "        \n",
    "        if ampm == 'A':\n",
    "            if h2 == 12:\n",
    "                h1 = 23\n",
    "                h2 = 0\n",
    "                \n",
    "            if h1 == 12:\n",
    "                h1 = 0\n",
    "        \n",
    "        if ampm == 'P':\n",
    "            h1 = h1 + 12\n",
    "            h2 = h2 + 12\n",
    "            if h2 == 24:\n",
    "                h2 -= 12\n",
    "                h1 -= 12\n",
    "                \n",
    "            if h1 == 24:\n",
    "                h1 = 12\n",
    "        \n",
    "        add_h1 = ''\n",
    "        add_h2 = ''\n",
    "        if h1 < 10:\n",
    "            add_h1 = '0'\n",
    "        if h2 < 10:\n",
    "            add_h2 = '0'\n",
    "        return add_h1+str(h1) + '-' + add_h2+ str(h2)+''\n",
    "    \n",
    "    return time"
   ]
  },
  {
   "cell_type": "markdown",
   "metadata": {},
   "source": [
    "Relabel the time and change order of columns"
   ]
  },
  {
   "cell_type": "code",
   "execution_count": null,
   "metadata": {
    "scrolled": true
   },
   "outputs": [],
   "source": [
    "df_traffic.rename(to_time, axis = 'columns',inplace=True)\n",
    "cols = list(df_traffic.columns)\n",
    "cols.sort()\n",
    "df_traffic = df_traffic[cols]"
   ]
  },
  {
   "cell_type": "code",
   "execution_count": null,
   "metadata": {},
   "outputs": [],
   "source": [
    "# Total Day Volume count\n",
    "hours = df_traffic.columns[df_traffic.columns.str.match(r'[\\d]+-[\\d]+')]\n",
    "df_traffic['TOTAL_DAY'] = df_traffic[hours].sum(axis=1)"
   ]
  },
  {
   "cell_type": "markdown",
   "metadata": {},
   "source": [
    "<b> Daily Average Volume Count <b/>"
   ]
  },
  {
   "cell_type": "code",
   "execution_count": null,
   "metadata": {},
   "outputs": [],
   "source": [
    "df_DAVC = df_traffic.groupby(['LONGITUDE','LATITUDE','BOROUGH']).agg(np.mean)\n",
    "del df_DAVC['ID']\n",
    "del df_DAVC['SEGMENT_ID']\n",
    "df_DAVC.reset_index(inplace = True)\n",
    "df_DAVC.head(2)"
   ]
  },
  {
   "cell_type": "markdown",
   "metadata": {},
   "source": [
    "## Overview"
   ]
  },
  {
   "cell_type": "markdown",
   "metadata": {},
   "source": [
    "### Severity"
   ]
  },
  {
   "cell_type": "code",
   "execution_count": null,
   "metadata": {},
   "outputs": [],
   "source": [
    "df_injury = df_collision[(df_collision['NUMBER_OF_PERSONS_INJURED'] > 0)].copy()\n",
    "N_injury = len(df_injury)\n",
    "print('Number of accidents with (at least) one injured and no fatality : ', N_injury)"
   ]
  },
  {
   "cell_type": "code",
   "execution_count": null,
   "metadata": {
    "scrolled": true
   },
   "outputs": [],
   "source": [
    "df_fatal = df_collision[(df_collision['NUMBER_OF_PERSONS_KILLED'] > 0)].copy()\n",
    "N_fatal = len(df_fatal)\n",
    "print('Number of accidents with (at least) one fatality : ', N_fatal)"
   ]
  },
  {
   "cell_type": "code",
   "execution_count": null,
   "metadata": {
    "scrolled": false
   },
   "outputs": [],
   "source": [
    "fig, ax = plt.subplots(figsize = (10,10))\n",
    "\n",
    "\n",
    "labels = 'Fatal', 'Injury', 'No Casualty'\n",
    "fracs = [N_fatal, N_injury, N_collision - N_fatal - N_injury]\n",
    "ax.pie(fracs,  labels=labels, autopct='%1.1f%%',pctdistance= 0.9, \n",
    "        colors=['#4D4D4D', '#F15854','#5DA5DA' ],textprops = {'fontsize' : 15});\n",
    "#plt.text(-1.2,1,'Accidents',fontsize = 20, ha = 'center', weight = 'bold');\n",
    "plt.text(-1.2,1,'Accidents',fontsize = 20, ha = 'center', weight = 'bold');\n",
    "fig.savefig('severity.jpg', transparent=True, bbox_inches='tight')"
   ]
  },
  {
   "cell_type": "markdown",
   "metadata": {},
   "source": [
    "### Type of Vehicle"
   ]
  },
  {
   "cell_type": "markdown",
   "metadata": {},
   "source": [
    "We see that extracting information is going to be messy. First let us get rid off the nan values and take the lower case"
   ]
  },
  {
   "cell_type": "code",
   "execution_count": null,
   "metadata": {
    "scrolled": true
   },
   "outputs": [],
   "source": [
    "df_collision['VEHICLE_TYPE_CODE_1'].fillna('nan',inplace=True)\n",
    "df_collision['VEHICLE_TYPE_CODE_2'].fillna('nan',inplace=True)\n",
    "df_collision['VEHICLE_TYPE_CODE_3'].fillna('nan',inplace=True)\n",
    "df_collision['VEHICLE_TYPE_CODE_4'].fillna('nan',inplace=True)\n",
    "df_collision['VEHICLE_TYPE_CODE_5'].fillna('nan',inplace=True)\n",
    "\n",
    "df_collision['VEHICLE_TYPE_CODE_1'] = df_collision['VEHICLE_TYPE_CODE_1'].str.lower()\n",
    "df_collision['VEHICLE_TYPE_CODE_2'] = df_collision['VEHICLE_TYPE_CODE_2'].str.lower()\n",
    "df_collision['VEHICLE_TYPE_CODE_3'] = df_collision['VEHICLE_TYPE_CODE_3'].str.lower()\n",
    "df_collision['VEHICLE_TYPE_CODE_4'] = df_collision['VEHICLE_TYPE_CODE_4'].str.lower()\n",
    "df_collision['VEHICLE_TYPE_CODE_5'] = df_collision['VEHICLE_TYPE_CODE_5'].str.lower()"
   ]
  },
  {
   "cell_type": "markdown",
   "metadata": {},
   "source": [
    "If we look at the values of each of these features, we see that it is quite messy. Let us look at how many different values there are for each feature:"
   ]
  },
  {
   "cell_type": "code",
   "execution_count": null,
   "metadata": {
    "scrolled": true
   },
   "outputs": [],
   "source": [
    "for i in range(5):\n",
    "    feat = 'VEHICLE_TYPE_CODE_'+str(i+1)\n",
    "    print(\"Number of values for \",feat, \" = \",len(df_collision[feat].unique()))"
   ]
  },
  {
   "cell_type": "markdown",
   "metadata": {},
   "source": [
    "For each of these features let us look at the most commong values"
   ]
  },
  {
   "cell_type": "code",
   "execution_count": null,
   "metadata": {
    "scrolled": false
   },
   "outputs": [],
   "source": [
    "for i in range(5):\n",
    "    feat = 'VEHICLE_TYPE_CODE_'+str(i+1)\n",
    "    values = df_collision.groupby(feat).size().sort_values(ascending = False)\n",
    "    \n",
    "    values = values[values > 100]\n",
    "    print(values)\n",
    "    print(\"\")"
   ]
  },
  {
   "cell_type": "markdown",
   "metadata": {},
   "source": [
    "Clearly, we can group all these into categories:\n",
    "    - passenger vehicle\n",
    "    - SUV\n",
    "    - taxi\n",
    "    - trucks\n",
    "    - motorcycle\n",
    "    - bus\n",
    "    - ambulance\n",
    "    \n",
    "However SUVS are also passenger vehicles, so it might be that some police officer will put SUVs in the 'passenger vehicle' while others will put them in the SUV category. Given that it is not clear how this vehicle code is collected, it is probably safer to group SUV ans passenger vehicle in the same category"
   ]
  },
  {
   "cell_type": "code",
   "execution_count": null,
   "metadata": {
    "scrolled": true
   },
   "outputs": [],
   "source": [
    "v1 = set(df_collision['VEHICLE_TYPE_CODE_1'])\n",
    "v2 = set(df_collision['VEHICLE_TYPE_CODE_2'])\n",
    "v3 = set(df_collision['VEHICLE_TYPE_CODE_3'])\n",
    "v4 = set(df_collision['VEHICLE_TYPE_CODE_4'])\n",
    "v5 = set(df_collision['VEHICLE_TYPE_CODE_5'])\n",
    "\n",
    "print(\"Number of distinct values:\", len(v1|v2|v3|v4|v5))\n",
    "babidi = list(v1|v2|v3|v4|v5)"
   ]
  },
  {
   "cell_type": "markdown",
   "metadata": {},
   "source": [
    "#### Clean Up\n",
    "\n",
    "<b> Bicycle </b>"
   ]
  },
  {
   "cell_type": "code",
   "execution_count": null,
   "metadata": {},
   "outputs": [],
   "source": [
    "pat = r'(bike)|(bicycle)|(nyc b)|(pedic)|bik|eb|elect' \n",
    "replacement = 'Bike'\n",
    "for i in range(5):\n",
    "    feat = 'VEHICLE_TYPE_CODE_'+str(i+1)\n",
    "    df_collision[feat] = df_collision[feat].apply(lambda x: replacement if re.match(pat,x) else x)"
   ]
  },
  {
   "cell_type": "markdown",
   "metadata": {},
   "source": [
    "<b> Truck </b>"
   ]
  },
  {
   "cell_type": "code",
   "execution_count": null,
   "metadata": {},
   "outputs": [],
   "source": [
    "pat =(r\"(box)|(cemen)|(cm)|(co)|(cargo)|(carr)|(delv)|(deliv)|(dump)|(elect)|(fire)|(freig)|(garba)|(ice)|(large)|\"\n",
    "        \"(liver)|(p[i]*[c]*k)|(ref)|(tk)|(tow)|(tr)|(tt)|(tank)|(tru)|(trac)|(trail)|(trans)|(trl)|(semi)|(ups t)\")\n",
    "replacement = 'Truck'\n",
    "for i in range(5):\n",
    "    feat = 'VEHICLE_TYPE_CODE_'+str(i+1)\n",
    "    df_collision[feat] = df_collision[feat].apply(lambda x: replacement if re.match(pat,x) else x)"
   ]
  },
  {
   "cell_type": "markdown",
   "metadata": {},
   "source": [
    "<b> Bus </b>"
   ]
  },
  {
   "cell_type": "code",
   "execution_count": null,
   "metadata": {},
   "outputs": [],
   "source": [
    "pat = r'(schoo)|(bu)|(flat)|(fb)|(mta b)|(rv)|(omni)'# probably flat and fb refers to a specific type of bus (flat bus)\n",
    "replacement = 'Bus'\n",
    "for i in range(5):\n",
    "    feat = 'VEHICLE_TYPE_CODE_'+str(i+1)\n",
    "    df_collision[feat] = df_collision[feat].apply(lambda x: replacement if re.match(pat,x) else x)"
   ]
  },
  {
   "cell_type": "markdown",
   "metadata": {},
   "source": [
    "<b> Motorcycle </b>"
   ]
  },
  {
   "cell_type": "code",
   "execution_count": null,
   "metadata": {},
   "outputs": [],
   "source": [
    "pat = r'(mb)|(moped)|(motor)|(scoot)'\n",
    "replacement = 'Motorcycle'\n",
    "for i in range(5):\n",
    "    feat = 'VEHICLE_TYPE_CODE_'+str(i+1)\n",
    "    df_collision[feat] = df_collision[feat].apply(lambda x: replacement if re.match(pat,x) else x)"
   ]
  },
  {
   "cell_type": "markdown",
   "metadata": {},
   "source": [
    "<b> SUV </b>"
   ]
  },
  {
   "cell_type": "code",
   "execution_count": null,
   "metadata": {},
   "outputs": [],
   "source": [
    "pat = r'(station)|(sport)|(suv)|(util)|(wagon)'\n",
    "replacement = 'Passenger Vehicle'\n",
    "for i in range(5):\n",
    "    feat = 'VEHICLE_TYPE_CODE_'+str(i+1)\n",
    "    df_collision[feat] = df_collision[feat].apply(lambda x: replacement if re.match(pat,x) else x)"
   ]
  },
  {
   "cell_type": "markdown",
   "metadata": {},
   "source": [
    "<b> Car </b>"
   ]
  },
  {
   "cell_type": "code",
   "execution_count": null,
   "metadata": {},
   "outputs": [],
   "source": [
    "pat = r'(pas)|(p/)|(sedan)|(renta)|(small)|(sub)'\n",
    "replacement = 'Passenger Vehicle'\n",
    "for i in range(5):\n",
    "    feat = 'VEHICLE_TYPE_CODE_'+str(i+1)\n",
    "    df_collision[feat] = df_collision[feat].apply(lambda x: replacement if re.match(pat,x) else x)"
   ]
  },
  {
   "cell_type": "markdown",
   "metadata": {},
   "source": [
    "#### Pie Chart"
   ]
  },
  {
   "cell_type": "code",
   "execution_count": null,
   "metadata": {},
   "outputs": [],
   "source": [
    "vehicles = ['Bike', 'Truck', 'Motorcycle',  'Passenger Vehicle', 'Bus','taxi']\n",
    "N_vehicles = []\n",
    "\n",
    "\n",
    "for v in vehicles:\n",
    "    N = 0\n",
    "    for i in range(5):\n",
    "        feat = 'VEHICLE_TYPE_CODE_'+str(i+1)\n",
    "        N += (df_collision[feat] == v).sum()\n",
    "    N_vehicles.append(N)\n",
    "    \n",
    "    print('Number of '+v+' = ', N)\n",
    "\n",
    "N = 0\n",
    "for i in range(5):\n",
    "    feat = 'VEHICLE_TYPE_CODE_'+str(i+1)\n",
    "    N += (df_collision[feat].apply(lambda x: True if x not in (vehicles + ['nan']) else False)).sum()\n",
    "vehicles.append('other')\n",
    "N_vehicles.append(N)\n",
    "print(\"Number of Others\", N)"
   ]
  },
  {
   "cell_type": "code",
   "execution_count": null,
   "metadata": {},
   "outputs": [],
   "source": [
    "fig1, ax1 = plt.subplots(figsize = (10,10))\n",
    "\n",
    "explode = np.zeros(len(vehicles))\n",
    "ax1.pie(N_vehicles,labels=vehicles, autopct='%1.0f%%', explode = explode ,\n",
    "        colors = ['#FAA43A','#F15854', '#B276B2','#60BD68', '#DECF3F', '#5DA5DA','#F17CB0'],\n",
    "        startangle=90, textprops = {'fontsize': 15})\n",
    "\n",
    "#draw circle\n",
    "centre_circle = plt.Circle((0,0),0.70,fc='white')\n",
    "fig = plt.gcf()\n",
    "fig.gca().add_artist(centre_circle)\n",
    "\n",
    "# Equal aspect ratio ensures that pie is drawn as a circle\n",
    "#ax1.axis('equal')  \n",
    "#plt.tight_layout()\n",
    "plt.text(-1.2,1,'Types of vehicle\\n involved',fontsize = 20, ha = 'center', weight = 'bold');\n",
    "#plt.title('Type of vehicles involved',fontsize = 20, ha = 'center',weight = 'bold');\n",
    "fig.savefig('vehicles.png', transparent=True, bbox_inches='tight')"
   ]
  },
  {
   "cell_type": "markdown",
   "metadata": {},
   "source": [
    "### Who gets injured/killed?\n",
    "Who gets injured/killed in accidents?"
   ]
  },
  {
   "cell_type": "code",
   "execution_count": null,
   "metadata": {},
   "outputs": [],
   "source": [
    "ped_injured = df_collision['NUMBER_OF_PEDESTRIANS_INJURED'].sum()\n",
    "cyc_injured = df_collision['NUMBER_OF_CYCLIST_INJURED'].sum()\n",
    "mot_injured = df_collision['NUMBER_OF_MOTORIST_INJURED'].sum()\n",
    "\n",
    "\n",
    "\n",
    "ped_killed = df_collision['NUMBER_OF_PEDESTRIANS_KILLED'].sum()\n",
    "cyc_killed = df_collision['NUMBER_OF_CYCLIST_KILLED'].sum()\n",
    "mot_killed = df_collision['NUMBER_OF_MOTORIST_KILLED'].sum()"
   ]
  },
  {
   "cell_type": "markdown",
   "metadata": {},
   "source": [
    "#### Injured"
   ]
  },
  {
   "cell_type": "code",
   "execution_count": null,
   "metadata": {},
   "outputs": [],
   "source": [
    "fig1, ax1 = plt.subplots(figsize = (10,10))\n",
    "\n",
    "who_injured = [ped_injured,cyc_injured,mot_injured]\n",
    "labels = ['Pedestrian', 'Cyclist', 'Motorist']\n",
    "ax1.pie(who_injured,labels=labels, autopct='%1.0f%%',\n",
    "        colors = ['#5DA5DA','#F15854','#60BD68'],\n",
    "        startangle=90, textprops = {'fontsize': 15})\n",
    "\n",
    "#draw circle\n",
    "centre_circle = plt.Circle((0,0),0.70,fc='white')\n",
    "fig = plt.gcf()\n",
    "fig.gca().add_artist(centre_circle)\n",
    "\n",
    "# Equal aspect ratio ensures that pie is drawn as a circle\n",
    "#ax1.axis('equal')  \n",
    "#plt.tight_layout()\n",
    "plt.text(-1.2,1,'Who Gets Injured?',fontsize = 20, ha = 'center', weight = 'bold');\n",
    "#plt.title('Type of vehicles involved',fontsize = 20, ha = 'center',weight = 'bold');\n",
    "fig.savefig('vehicles.png', transparent=True, bbox_inches='tight')"
   ]
  },
  {
   "cell_type": "markdown",
   "metadata": {},
   "source": [
    "#### Killed"
   ]
  },
  {
   "cell_type": "code",
   "execution_count": null,
   "metadata": {},
   "outputs": [],
   "source": [
    "fig1, ax1 = plt.subplots(figsize = (10,10))\n",
    "\n",
    "who_killed = [ped_killed,cyc_killed,mot_killed]\n",
    "labels = ['Pedestrian', 'Cyclist', 'Motorist']\n",
    "ax1.pie(who_killed,labels=labels, autopct='%1.0f%%',\n",
    "        colors = ['#5DA5DA','#F15854','#60BD68'],\n",
    "        startangle=90, textprops = {'fontsize': 15})\n",
    "\n",
    "#draw circle\n",
    "centre_circle = plt.Circle((0,0),0.70,fc='white')\n",
    "fig = plt.gcf()\n",
    "fig.gca().add_artist(centre_circle)\n",
    "\n",
    "# Equal aspect ratio ensures that pie is drawn as a circle\n",
    "#ax1.axis('equal')  \n",
    "#plt.tight_layout()\n",
    "plt.text(-1.2,1,'Who Gets Killed?',fontsize = 20, ha = 'center', weight = 'bold');\n",
    "#plt.title('Type of vehicles involved',fontsize = 20, ha = 'center',weight = 'bold');\n",
    "fig.savefig('vehicles.png', transparent=True, bbox_inches='tight')"
   ]
  },
  {
   "cell_type": "markdown",
   "metadata": {},
   "source": [
    "### Traffic"
   ]
  },
  {
   "cell_type": "code",
   "execution_count": null,
   "metadata": {},
   "outputs": [],
   "source": [
    "hours = df_traffic.columns[df_traffic.columns.str.match(r'[\\d]+-[\\d]+')]"
   ]
  },
  {
   "cell_type": "code",
   "execution_count": null,
   "metadata": {
    "scrolled": false
   },
   "outputs": [],
   "source": [
    "fig = plt.figure(figsize=(15, 10))\n",
    "\n",
    "x_hours = np.arange(1,25)\n",
    "traffic_hours = 100*df_traffic[hours].sum()/df_traffic[hours].sum().sum()\n",
    "\n",
    "plt.plot(x_hours, traffic_hours,marker = 'o', \n",
    "        label = 'Average Traffic in NYC',color = 'gray');\n",
    "\n",
    "\n",
    "# graph\n",
    "plt.xlabel('Hours', fontsize = 15)\n",
    "plt.ylabel('Percentage of Traffic', fontsize = 15)\n",
    "plt.xticks(x_hours,df_traffic[hours].columns,rotation = 45);\n",
    "\n",
    "plt.title('Traffic per hour',fontsize = 15);"
   ]
  },
  {
   "cell_type": "markdown",
   "metadata": {},
   "source": [
    "## Where ?"
   ]
  },
  {
   "cell_type": "markdown",
   "metadata": {},
   "source": [
    "While it is an interesting question to know where most of the accidents happen, it is however highly correlated with the volume of traffic. Therefore, without this knowledge, it will be difficult to draw any interesting conclusions from this dataset. It would be interesting to pull out some traffic data to compare with the collision data. Unf"
   ]
  },
  {
   "cell_type": "markdown",
   "metadata": {},
   "source": [
    "### Mapping Accidents in Manhattan"
   ]
  },
  {
   "cell_type": "code",
   "execution_count": null,
   "metadata": {},
   "outputs": [],
   "source": [
    "lng_min, lng_max = -74.3 , -73.65\n",
    "lat_min, lat_max = 40.48 , 40.92"
   ]
  },
  {
   "cell_type": "markdown",
   "metadata": {},
   "source": [
    "#### Estimating Traffic Volume\n",
    "\n",
    "The problem with the volume traffic device is that they are unequally distributed: there are many more in Manhattan than in other borough of NYC. Unfortunately, this is the only measure of traffic that I have. To estimate the (average daily) traffic in a given region, I will use a KNN regressor."
   ]
  },
  {
   "cell_type": "code",
   "execution_count": null,
   "metadata": {
    "scrolled": true
   },
   "outputs": [],
   "source": [
    "from sklearn import neighbors\n",
    "\n",
    "X = df_DAVC[['LONGITUDE','LATITUDE']]\n",
    "y = df_DAVC['TOTAL_DAY']\n",
    "\n",
    "\n",
    "clf = neighbors.KNeighborsRegressor(n_neighbors = 5, weights='distance')\n",
    "clf.fit(X, y)\n",
    "\n",
    "xx, yy = np.meshgrid(np.arange(lng_min, lng_max, 0.0005),\n",
    "                     np.arange(lat_min, lat_max, 0.0005))\n",
    "Z = clf.predict(np.c_[xx.ravel(), yy.ravel()])\n",
    "Z = Z.reshape(xx.shape)"
   ]
  },
  {
   "cell_type": "markdown",
   "metadata": {},
   "source": [
    "Given that the traffic data are mainly in 2013, let us consider traffic accidents in the year 2013 only:"
   ]
  },
  {
   "cell_type": "code",
   "execution_count": null,
   "metadata": {},
   "outputs": [],
   "source": [
    "df_collision_13 = df_collision[df_collision['DATE'].apply(lambda x: x.year == 2013)]"
   ]
  },
  {
   "cell_type": "markdown",
   "metadata": {},
   "source": [
    "#### Map"
   ]
  },
  {
   "cell_type": "code",
   "execution_count": null,
   "metadata": {
    "scrolled": true
   },
   "outputs": [],
   "source": [
    "fig, ax  = plt.subplots(figsize=(28, 28))\n",
    "\n",
    "\n",
    "## CREATE A MAP OF NYC\n",
    "#######################\n",
    "\n",
    "try:\n",
    "    m_nyc\n",
    "except NameError:\n",
    "    m_nyc = Basemap(projection='merc',llcrnrlat=lat_min,urcrnrlat=lat_max,\n",
    "                    llcrnrlon= lng_min,urcrnrlon=lng_max,resolution='f')\n",
    "\n",
    "# Set axis limit\n",
    "x_min, y_min = m_nyc(lng_min,lat_min) \n",
    "x_max, y_max = m_nyc(lng_max,lat_max)\n",
    "\n",
    "ax.set_xlim(x_min, x_max)\n",
    "ax.set_ylim(y_min, y_max)\n",
    "\n",
    "# Draw the coastline and fill the map with color (blue-ish)\n",
    "m_nyc.drawcoastlines()\n",
    "m_nyc.drawrivers(color = '#DBDBDB')\n",
    "m_nyc.drawmapboundary(fill_color = '#DBDBDB')\n",
    "\n",
    "## CREATE A PATCH OF CONTINENTS\n",
    "################################\n",
    "\n",
    "map_edges = np.array([[x_min,y_min],[x_max,y_min],[x_max,y_max],[x_min,y_max]])\n",
    "polys = [p.boundary for p in m_nyc.landpolygons]\n",
    "\n",
    "polys = [map_edges]+polys[:] # polygons of the map + edges\n",
    "\n",
    "## creating the patch from polys (see https://matplotlib.org/users/path_tutorial.html)\n",
    "codes = [\n",
    "    [patches.Path.MOVETO] + [patches.Path.LINETO for p in p[1:]]\n",
    "        for p in polys\n",
    "]\n",
    "\n",
    "polys_lin = [v for p in polys for v in p]\n",
    "codes_lin = [c for cs in codes for c in cs]\n",
    "\n",
    "path = patches.Path(polys_lin, codes_lin)\n",
    "patch_ocean = patches.PathPatch(path,facecolor='#71BEE5', lw=2)\n",
    "\n",
    "# add ocean patch\n",
    "ax.add_patch(patch_ocean)\n",
    "\n",
    "\n",
    "## CREATE A PATCH OF NYC\n",
    "########################\n",
    "\n",
    "# get NYC boundary polygon\n",
    "from NYC_boundaries import *\n",
    "NYC_boundary = get_boundary() \n",
    "\n",
    "x_bm, y_bm = m_nyc(NYC_boundary[:,0],NYC_boundary[:,1])\n",
    "NYC_boundary_bm = np.vstack((x_bm,y_bm)).transpose()\n",
    "patch_NYC = patches.Polygon(NYC_boundary_bm, facecolor='none',edgecolor = 'black')\n",
    "ax.add_patch(patch_NYC)\n",
    "\n",
    "## TRAFFIC MAP\n",
    "##############\n",
    "xx_bm, yy_bm = m_nyc(xx,yy)\n",
    "traffic = ax.pcolormesh(xx_bm, yy_bm, Z, vmax = 30000, cmap='YlGnBu',clip_path=patch_NYC,clip_on=True)\n",
    "\n",
    "\n",
    "## COLLISION MAP\n",
    "################\n",
    "x_bm, y_bm = m_nyc(np.array(df_collision_13['LONGITUDE']),np.array(df_collision_13['LATITUDE']))\n",
    "ax.scatter(x_bm,y_bm, \n",
    "           c = '#F15854', alpha = 0.05, marker = ',', s = 3, \n",
    "           label = \"Motor Vehicle Collision\",clip_path=patch_NYC,clip_on=True)\n",
    "\n",
    "## TRAFFIC COUNT DEVICE\n",
    "#######################\n",
    "\n",
    "x_bm, y_bm = m_nyc(np.array(df_DAVC['LONGITUDE']),np.array(df_DAVC['LATITUDE']))\n",
    "ax.scatter(x_bm , y_bm , \n",
    "           c = 'black', \n",
    "           alpha = 1, marker = 'o', s = 30, \n",
    "           label = \"Traffic Count Device\",clip_path=patch_NYC,clip_on=True)\n",
    "\n",
    "\n",
    "\n",
    "\n",
    "# Remove axes\n",
    "ax.spines['right'].set_visible(False)\n",
    "ax.spines['left'].set_visible(False)\n",
    "ax.spines['top'].set_visible(False)\n",
    "ax.spines['bottom'].set_visible(False)\n",
    "\n",
    "ax.set_xticks([])\n",
    "ax.set_yticks([])\n",
    "\n",
    "# Legend\n",
    "\n",
    "lgd = plt.legend(fontsize = 25, framealpha=0,loc=\"upper left\",bbox_to_anchor=(0.0215, 0.83))\n",
    "\n",
    "for l in lgd.legendHandles:\n",
    "    l._sizes = [500] # change size of the marker in legend\n",
    "    l.set_alpha(1) # change alpha of the marker in legend\n",
    "\n",
    "lgd.get_frame().set_linewidth(0.0)\n",
    "\n",
    "# Traffic count color bar\n",
    "cbar = fig.colorbar(traffic, orientation = 'vertical', shrink = 0.5, pad = -1.05)\n",
    "cbar.ax.yaxis.set_ticks_position('right')\n",
    "cbar.ax.set_ylabel('\\nAverage Daily Traffic Count',fontsize = 25,rotation = 90)\n",
    "cbar.ax.yaxis.set_label_coords(-2,0.6)\n",
    "cbar.ax.tick_params(labelsize=15) \n",
    "\n",
    "# # Add title\n",
    "\n",
    "dx = x_max-x_min\n",
    "dy = y_max-y_min\n",
    "ax.text(x_min+0.25*dx,y_min+0.90*dy,'Motor Vehicle Collisions\\n in NYC (2013)', fontsize = 35, ha = \"center\", weight = 'bold');\n",
    "fig.savefig('MVA_NYC.png', transparent=False, bbox_inches='tight')"
   ]
  },
  {
   "cell_type": "markdown",
   "metadata": {},
   "source": [
    "### Accidents per Borough"
   ]
  },
  {
   "cell_type": "code",
   "execution_count": null,
   "metadata": {},
   "outputs": [],
   "source": [
    "prop_borough = df_collision.groupby('BOROUGH').size()/(~df_collision['BOROUGH'].isnull()).sum()\n",
    "prop_injury_borough = df_injury.groupby('BOROUGH').size()/N_injury\n",
    "prop_fatal_borough = df_fatal.groupby('BOROUGH').size()/N_fatal\n",
    "\n",
    "prop_borough.sort_index(inplace=True)\n",
    "prop_injury_borough.sort_index(inplace=True)\n",
    "prop_fatal_borough.sort_index(inplace=True)"
   ]
  },
  {
   "cell_type": "code",
   "execution_count": null,
   "metadata": {},
   "outputs": [],
   "source": [
    "traffic_borough = df_DAVC.groupby('BOROUGH').agg({'TOTAL_DAY':np.mean})\n",
    "traffic_borough = traffic_borough/traffic_borough.sum()\n",
    "traffic_borough.sort_index(inplace=True)\n",
    "traffic_borough"
   ]
  },
  {
   "cell_type": "markdown",
   "metadata": {},
   "source": [
    "Let us also compute the standard deviation on the estimated proportion (assuming a multinomial distribution)\n"
   ]
  },
  {
   "cell_type": "code",
   "execution_count": null,
   "metadata": {},
   "outputs": [],
   "source": [
    "std_prop_borough = prop_borough.apply(lambda x: (x*(1-x)/N_collision)**0.5)\n",
    "std_prop_injury_borough = prop_injury_borough.apply(lambda x: (x*(1-x)/N_injury)**0.5)\n",
    "std_prop_fatal_borough = prop_fatal_borough.apply(lambda x: (x*(1-x)/N_fatal)**0.5)"
   ]
  },
  {
   "cell_type": "code",
   "execution_count": null,
   "metadata": {
    "scrolled": false
   },
   "outputs": [],
   "source": [
    "fig = plt.figure(figsize=(15, 10))\n",
    "\n",
    "x_borough = np.arange(1,len(prop_borough.index)+1)\n",
    "\n",
    "# Total\n",
    "plt.bar(x_borough-0.3, height = prop_borough*100, width = 0.3,\n",
    "        label = 'Total',color = 'darkorange', \n",
    "        yerr = std_prop_borough*100, error_kw=dict(ecolor='black', lw=1, capsize=4, capthick=1));\n",
    "\n",
    "# Injured only\n",
    "plt.bar(x_borough, height = prop_injury_borough*100, width = 0.3, \n",
    "         label = 'Injuries',color = 'orange',\n",
    "       yerr = std_prop_injury_borough*100 , error_kw=dict(ecolor='black', lw=1, capsize=4, capthick=1));\n",
    "\n",
    "# At least one fatality\n",
    "plt.bar(x_borough+0.3, height = prop_fatal_borough*100, width = 0.3, \n",
    "        label = 'Fatalities', color = 'navajowhite',\n",
    "       yerr = std_prop_fatal_borough*100, error_kw=dict(ecolor='black', lw=1, capsize=4, capthick=1));\n",
    "\n",
    "# Traffic\n",
    "plt.plot(x_borough, traffic_borough*100, \n",
    "        label = 'Estimated Traffic (%)', color = 'gray');\n",
    "\n",
    "\n",
    "# graph\n",
    "plt.xlabel('Borough', fontsize = 15)\n",
    "plt.xticks(x_borough,prop_borough.index)\n",
    "plt.xlim(0.4,6)\n",
    "plt.ylim(0,50)\n",
    "plt.legend()\n",
    "\n",
    "plt.title('Proportion of accidents per borough',fontsize = 15);"
   ]
  },
  {
   "cell_type": "markdown",
   "metadata": {},
   "source": [
    "## When ?\n",
    "\n",
    "### Hour of the day"
   ]
  },
  {
   "cell_type": "markdown",
   "metadata": {},
   "source": [
    "We then extract the hour and count the proportion of accidents for each hour:"
   ]
  },
  {
   "cell_type": "code",
   "execution_count": null,
   "metadata": {},
   "outputs": [],
   "source": [
    "df_collision['HOUR'] = df_collision['TIME'].apply(lambda x: x.hour)\n",
    "df_injury['HOUR'] = df_injury['TIME'].apply(lambda x: x.hour)\n",
    "df_fatal['HOUR'] = df_fatal['TIME'].apply(lambda x: x.hour)\n",
    "\n",
    "prop_hour = df_collision.groupby('HOUR').size()/N_collision\n",
    "prop_injury_hour = df_injury.groupby('HOUR').size()/N_injury\n",
    "prop_fatal_hour = df_fatal.groupby('HOUR').size()/N_fatal"
   ]
  },
  {
   "cell_type": "markdown",
   "metadata": {},
   "source": [
    "Let us also compute the standard deviation on the estimated proportion (assuming a multinomial distribution)"
   ]
  },
  {
   "cell_type": "code",
   "execution_count": null,
   "metadata": {},
   "outputs": [],
   "source": [
    "std_prop_hour = prop_hour.apply(lambda x: (x*(1-x)/N_collision)**0.5)\n",
    "std_prop_injury_hour = prop_injury_hour.apply(lambda x: (x*(1-x)/N_injury)**0.5)\n",
    "std_prop_fatal_hour = prop_fatal_hour.apply(lambda x: (x*(1-x)/N_fatal)**0.5)"
   ]
  },
  {
   "cell_type": "markdown",
   "metadata": {},
   "source": [
    "We then plot these proportions and consider (1) the whole data set, (2) those with injuries, (3) those with fatalities"
   ]
  },
  {
   "cell_type": "code",
   "execution_count": null,
   "metadata": {
    "scrolled": false
   },
   "outputs": [],
   "source": [
    "fig = plt.figure(figsize=(15, 10))\n",
    "\n",
    "\n",
    "x_hours = np.arange(1,25)\n",
    "\n",
    "\n",
    "\n",
    "\n",
    "# Total\n",
    "plt.bar(x_hours-0.3, height = prop_hour*100, width = 0.3,\n",
    "        label = 'Total',color = 'darkorange', \n",
    "        yerr = std_prop_hour*100, error_kw=dict(ecolor='black', lw=1, capsize=4, capthick=1));\n",
    "\n",
    "# Injured only\n",
    "plt.bar(x_hours, height = prop_injury_hour*100, width = 0.3, \n",
    "         label = 'Injuries',color = 'orange',\n",
    "       yerr = std_prop_injury_hour*100 , error_kw=dict(ecolor='black', lw=1, capsize=4, capthick=1));\n",
    "\n",
    "# At least one fatality\n",
    "plt.bar(x_hours+0.3, height = prop_fatal_hour*100, width = 0.3, \n",
    "        label = 'Fatalities', color = 'navajowhite',\n",
    "       yerr = std_prop_fatal_hour*100, error_kw=dict(ecolor='black', lw=1, capsize=4, capthick=1));\n",
    "\n",
    "# Traffic\n",
    "traffic_hours = 100*df_traffic[hours].sum()/df_traffic[hours].sum().sum()\n",
    "plt.plot(x_hours, traffic_hours,'-o',\n",
    "        label = 'Average Traffic in NYC (2012-2013)',color = 'gray');\n",
    "\n",
    "# graph\n",
    "plt.xlabel('hour of the day', fontsize = 15)\n",
    "plt.xticks(np.arange(1,25,1),df_traffic[hours].columns,rotation = 90)\n",
    "plt.xlim(0.4,24.6)\n",
    "plt.ylim(0,8)\n",
    "plt.legend()\n",
    "\n",
    "plt.title('Percentage of accidents per hour of day',fontsize = 15);"
   ]
  },
  {
   "cell_type": "markdown",
   "metadata": {},
   "source": [
    "First let us notice that the total number of accidents is correlated with traffic (as expected). However the total number of deadly accidents seems uncorrelated with traffic volume. \n",
    "We can be a bit more quantitative and look at the Pearson correlation function (along with the corresponding p-value)"
   ]
  },
  {
   "cell_type": "code",
   "execution_count": null,
   "metadata": {},
   "outputs": [],
   "source": [
    "from scipy.stats import pearsonr\n",
    "\n",
    "print('----------')\n",
    "print('Traffic and Total Accidents')\n",
    "res = pearsonr(traffic_hours,prop_hour)\n",
    "print('Correlation coefficient = ', res[0])\n",
    "print('p-value = ', res[1])\n",
    "\n",
    "print('----------')\n",
    "print('Traffic and Accidents with Injuries')\n",
    "res = pearsonr(traffic_hours,prop_injury_hour)\n",
    "print('Correlation coefficient', res[0])\n",
    "print('p-value = ', res[1])\n",
    "\n",
    "print('----------')\n",
    "print('Traffic and Fatal Accidents')\n",
    "res = pearsonr(traffic_hours,prop_fatal_hour)\n",
    "print('Correlation coefficient', res[0])\n",
    "print('p-value = ', res[1])\n",
    "\n"
   ]
  },
  {
   "cell_type": "markdown",
   "metadata": {},
   "source": [
    "### Day of the week\n",
    "\n",
    "First convert the DATE column into a datetime object"
   ]
  },
  {
   "cell_type": "markdown",
   "metadata": {},
   "source": [
    "We then extract the corresponding weekday and count the proportion of accidents for each hour:"
   ]
  },
  {
   "cell_type": "code",
   "execution_count": null,
   "metadata": {},
   "outputs": [],
   "source": [
    "#weekday_dic ={0: 'Monday', 1: 'Tuesday', 2: 'Wednesday', 3: 'Thursday', 4: 'Friday', 5: 'Saturday', 6:'Sunday'}\n",
    "\n",
    "df_collision['WEEKDAY'] = df_collision['DATE'].apply(lambda x: x.weekday())\n",
    "df_injury['WEEKDAY'] = df_injury['DATE'].apply(lambda x: x.weekday())\n",
    "df_fatal['WEEKDAY'] = df_fatal['DATE'].apply(lambda x: x.weekday())\n",
    "\n",
    "prop_week = df_collision.groupby('WEEKDAY').size()/N_collision\n",
    "prop_injury_week = df_injury.groupby('WEEKDAY').size()/N_injury\n",
    "prop_fatal_week = df_fatal.groupby('WEEKDAY').size()/N_fatal"
   ]
  },
  {
   "cell_type": "markdown",
   "metadata": {},
   "source": [
    "Let us also compute the standard deviation on the estimated proportion (assuming a multinomial distribution)"
   ]
  },
  {
   "cell_type": "code",
   "execution_count": null,
   "metadata": {},
   "outputs": [],
   "source": [
    "std_prop_week = prop_week.apply(lambda x: (x*(1-x)/N_collision)**0.5)\n",
    "std_prop_injury_week = prop_injury_week.apply(lambda x: (x*(1-x)/N_injury)**0.5)\n",
    "std_prop_fatal_week = prop_fatal_week.apply(lambda x: (x*(1-x)/N_fatal)**0.5)"
   ]
  },
  {
   "cell_type": "code",
   "execution_count": null,
   "metadata": {},
   "outputs": [],
   "source": [
    "fig = plt.figure(figsize=(15, 10))\n",
    "# Total\n",
    "plt.bar(prop_week.index-0.3, height = prop_week*100, width = 0.3,\n",
    "        label = 'Total',color = 'darkorange', \n",
    "        yerr = std_prop_week*100, error_kw=dict(ecolor='black', lw=1, capsize=4, capthick=1));\n",
    "\n",
    "# Injured only\n",
    "plt.bar(prop_injury_week.index, height = prop_injury_week*100, width = 0.3, \n",
    "         label = 'Injuries',color = 'orange',\n",
    "       yerr = std_prop_injury_week*100 , error_kw=dict(ecolor='black', lw=1, capsize=4, capthick=1));\n",
    "\n",
    "# At least one fatality\n",
    "plt.bar(prop_fatal_week.index+0.3, height = prop_fatal_week*100, width = 0.3, \n",
    "        label = 'Fatalities', color = 'navajowhite',\n",
    "       yerr = std_prop_fatal_week*100, error_kw=dict(ecolor='black', lw=1, capsize=4, capthick=1));\n",
    "\n",
    "# graph\n",
    "#plt.xlabel('day of the week', fontsize = 15)\n",
    "plt.xticks(np.arange(0,7,1),['Monday','Tuesday','Wednesday','Thursday','Friday','Saturday','Sunday'])\n",
    "plt.xlim(-0.6,7)\n",
    "plt.ylim(0,25)\n",
    "plt.legend()\n",
    "\n",
    "plt.title('Percentage of accidents per day of week',fontsize = 15);"
   ]
  },
  {
   "cell_type": "markdown",
   "metadata": {},
   "source": [
    "There is not much difference between the day of the week. One interesting thing though is that while accidents with no fatality are slightly less frequent on weekends, fatal ones seem to increase (slightly) on weekends."
   ]
  },
  {
   "cell_type": "markdown",
   "metadata": {},
   "source": [
    "### Month of the year\n"
   ]
  },
  {
   "cell_type": "markdown",
   "metadata": {},
   "source": [
    "We then extract the corresponding weekday and count the proportion of accidents for each hour:"
   ]
  },
  {
   "cell_type": "code",
   "execution_count": null,
   "metadata": {},
   "outputs": [],
   "source": [
    "df_collision['MONTH'] = df_collision['DATE'].apply(lambda x: x.month)\n",
    "df_injury['MONTH'] = df_injury['DATE'].apply(lambda x: x.month)\n",
    "df_fatal['MONTH'] = df_fatal['DATE'].apply(lambda x: x.month)\n",
    "\n",
    "prop_month = df_collision.groupby('MONTH').size()/N_collision\n",
    "prop_injury_month = df_injury.groupby('MONTH').size()/N_injury\n",
    "prop_fatal_month = df_fatal.groupby('MONTH').size()/N_fatal"
   ]
  },
  {
   "cell_type": "markdown",
   "metadata": {},
   "source": [
    "Let us also compute the standard deviation on the estimated proportion (assuming a multinomial distribution)"
   ]
  },
  {
   "cell_type": "code",
   "execution_count": null,
   "metadata": {},
   "outputs": [],
   "source": [
    "std_prop_month = prop_month.apply(lambda x: (x*(1-x)/N_collision)**0.5)\n",
    "std_prop_injury_month = prop_injury_month.apply(lambda x: (x*(1-x)/N_injury)**0.5)\n",
    "std_prop_fatal_month = prop_fatal_month.apply(lambda x: (x*(1-x)/N_fatal)**0.5)"
   ]
  },
  {
   "cell_type": "code",
   "execution_count": null,
   "metadata": {},
   "outputs": [],
   "source": [
    "fig = plt.figure(figsize=(15, 10))\n",
    "# Total\n",
    "plt.bar(prop_month.index-0.3, height = prop_month*100, width = 0.3,\n",
    "        label = 'Total',color = 'darkorange', \n",
    "        yerr = std_prop_month*100, error_kw=dict(ecolor='black', lw=1, capsize=4, capthick=1));\n",
    "\n",
    "# Injured only\n",
    "plt.bar(prop_injury_month.index, height = prop_injury_month*100, width = 0.3, \n",
    "         label = 'Injuries',color = 'orange',\n",
    "       yerr = std_prop_injury_month*100 , error_kw=dict(ecolor='black', lw=1, capsize=4, capthick=1));\n",
    "\n",
    "# At least one fatality\n",
    "plt.bar(prop_fatal_month.index+0.3, height = prop_fatal_month*100, width = 0.3, \n",
    "        label = 'Fatalities', color = 'navajowhite',\n",
    "       yerr = std_prop_fatal_month*100, error_kw=dict(ecolor='black', lw=1, capsize=4, capthick=1));\n",
    "\n",
    "# graph\n",
    "#plt.xlabel('day of the week', fontsize = 15)\n",
    "plt.xticks(np.arange(1,13,1),['January','February','March','April','May','June',\n",
    "                              'July', 'August', 'September', 'October', 'November', 'December'])\n",
    "plt.xlim(0.4,12.6)\n",
    "plt.ylim(0,17)\n",
    "plt.legend()\n",
    "\n",
    "plt.title('Percentage of accidents per month of year',fontsize = 15);"
   ]
  },
  {
   "cell_type": "markdown",
   "metadata": {},
   "source": [
    "### Day of the year\n"
   ]
  },
  {
   "cell_type": "markdown",
   "metadata": {},
   "source": [
    "We then extract the corresponding weekday and count the proportion of accidents for each hour:"
   ]
  },
  {
   "cell_type": "code",
   "execution_count": null,
   "metadata": {},
   "outputs": [],
   "source": [
    "df_collision['DAY_OF_YEAR'] = df_collision['DATE'].dt.strftime('%m-%d')\n",
    "df_injury['DAY_OF_YEAR'] = df_injury['DATE'].dt.strftime('%m-%d')\n",
    "df_fatal['DAY_OF_YEAR'] = df_fatal['DATE'].dt.strftime('%m-%d')"
   ]
  },
  {
   "cell_type": "code",
   "execution_count": null,
   "metadata": {},
   "outputs": [],
   "source": [
    "df_collision = df_collision[df_collision['DAY_OF_YEAR']!= '02-29']\n",
    "df_injury = df_injury[df_injury['DAY_OF_YEAR']!= '02-29']\n",
    "df_fatal = df_fatal[df_fatal['DAY_OF_YEAR']!= '02-29']\n",
    "\n",
    "df_collision['DAY_OF_YEAR'] = pd.to_datetime(df_collision['DAY_OF_YEAR'], format='%m-%d')\n",
    "df_injury['DAY_OF_YEAR'] = pd.to_datetime(df_injury['DAY_OF_YEAR'], format='%m-%d')\n",
    "df_fatal['DAY_OF_YEAR'] = pd.to_datetime(df_fatal['DAY_OF_YEAR'], format='%m-%d')"
   ]
  },
  {
   "cell_type": "code",
   "execution_count": null,
   "metadata": {},
   "outputs": [],
   "source": [
    "prop_date = df_collision.groupby('DAY_OF_YEAR').size()/N_collision\n",
    "prop_injury_date = df_injury.groupby('DAY_OF_YEAR').size()/N_injury\n",
    "prop_fatal_date = df_fatal.groupby('DAY_OF_YEAR').size()/N_fatal"
   ]
  },
  {
   "cell_type": "code",
   "execution_count": null,
   "metadata": {
    "scrolled": false
   },
   "outputs": [],
   "source": [
    "fig, ax = plt.subplots(figsize=(15, 10))\n",
    "ax.plot(prop_date.index.date,prop_date)\n",
    "\n",
    "months = mdates.MonthLocator()  # every month\n",
    "days = mdates.DayLocator()\n",
    "monthsFmt = mdates.DateFormatter('%b')\n",
    "\n",
    "ax.xaxis.set_major_locator(months)\n",
    "ax.xaxis.set_minor_locator(days)\n",
    "ax.xaxis.set_major_formatter(monthsFmt)\n",
    "\n",
    "plt.title('Percentage of accidents per day of year',fontsize = 15);"
   ]
  },
  {
   "cell_type": "code",
   "execution_count": null,
   "metadata": {},
   "outputs": [],
   "source": [
    "fig, ax = plt.subplots(figsize=(15, 10))\n",
    "ax.plot(prop_fatal_date.index.date,prop_fatal_date)\n",
    "\n",
    "months = mdates.MonthLocator()  # every month\n",
    "days = mdates.DayLocator()\n",
    "monthsFmt = mdates.DateFormatter('%b')\n",
    "\n",
    "ax.xaxis.set_major_locator(months)\n",
    "ax.xaxis.set_minor_locator(days)\n",
    "ax.xaxis.set_major_formatter(monthsFmt)\n",
    "\n",
    "plt.title('Percentage of fatal accidents per day of year',fontsize = 15);"
   ]
  },
  {
   "cell_type": "markdown",
   "metadata": {},
   "source": [
    "#### Zooming On December"
   ]
  },
  {
   "cell_type": "code",
   "execution_count": null,
   "metadata": {
    "scrolled": false
   },
   "outputs": [],
   "source": [
    "prop_december = prop_date[prop_date.index.month == 12]\n",
    "\n",
    "fig, ax = plt.subplots(figsize=(15, 10))\n",
    "ax.plot(prop_december.index.date,prop_december)\n",
    "days = mdates.DayLocator()\n",
    "monthsFmt = mdates.DateFormatter('%d')\n",
    "\n",
    "ax.xaxis.set_major_locator(days)\n",
    "ax.xaxis.set_major_formatter(monthsFmt)\n",
    "\n",
    "plt.title('Percentage of accidents in December',fontsize = 15);"
   ]
  },
  {
   "cell_type": "markdown",
   "metadata": {},
   "source": [
    "There is a clear trough on Christmas day"
   ]
  },
  {
   "cell_type": "markdown",
   "metadata": {},
   "source": [
    "#### Zooming On July"
   ]
  },
  {
   "cell_type": "code",
   "execution_count": null,
   "metadata": {
    "scrolled": false
   },
   "outputs": [],
   "source": [
    "prop_july = prop_date[prop_date.index.month == 7]\n",
    "\n",
    "fig, ax = plt.subplots(figsize=(15, 10))\n",
    "ax.plot(prop_july.index.date,prop_july)\n",
    "days = mdates.DayLocator()\n",
    "monthsFmt = mdates.DateFormatter('%d')\n",
    "\n",
    "ax.xaxis.set_major_locator(days)\n",
    "ax.xaxis.set_major_formatter(monthsFmt)\n",
    "\n",
    "plt.title('Percentage of accidents in July',fontsize = 15);"
   ]
  },
  {
   "cell_type": "markdown",
   "metadata": {},
   "source": [
    "There is a clear trough on July 4th"
   ]
  },
  {
   "cell_type": "markdown",
   "metadata": {},
   "source": [
    "#### Zooming On January"
   ]
  },
  {
   "cell_type": "code",
   "execution_count": null,
   "metadata": {
    "scrolled": false
   },
   "outputs": [],
   "source": [
    "prop_january = prop_date[prop_date.index.month == 1]\n",
    "\n",
    "fig, ax = plt.subplots(figsize=(15, 10))\n",
    "ax.plot(prop_january.index.date,prop_january)\n",
    "days = mdates.DayLocator()\n",
    "monthsFmt = mdates.DateFormatter('%d')\n",
    "\n",
    "ax.xaxis.set_major_locator(days)\n",
    "ax.xaxis.set_major_formatter(monthsFmt)\n",
    "\n",
    "plt.title('Percentage of accidents in January',fontsize = 15);"
   ]
  },
  {
   "cell_type": "markdown",
   "metadata": {},
   "source": [
    "There is a clear trough on January 1st"
   ]
  },
  {
   "cell_type": "markdown",
   "metadata": {},
   "source": [
    "## Why ?"
   ]
  },
  {
   "cell_type": "code",
   "execution_count": null,
   "metadata": {},
   "outputs": [],
   "source": [
    "CF = ['CONTRIBUTING_FACTOR_VEHICLE_1',\n",
    "      'CONTRIBUTING_FACTOR_VEHICLE_2',\n",
    "      'CONTRIBUTING_FACTOR_VEHICLE_3',\n",
    "      'CONTRIBUTING_FACTOR_VEHICLE_4',\n",
    "      'CONTRIBUTING_FACTOR_VEHICLE_5']"
   ]
  },
  {
   "cell_type": "code",
   "execution_count": null,
   "metadata": {},
   "outputs": [],
   "source": [
    "all_causes = list(df_collision[CF].fillna('').unstack().unique())\n",
    "all_causes.remove('')\n",
    "all_causes.remove('Unspecified')"
   ]
  },
  {
   "cell_type": "code",
   "execution_count": null,
   "metadata": {},
   "outputs": [],
   "source": [
    "def extract_causes(filter_ = None):\n",
    "    if filter_ is not None:\n",
    "        df = df_collision[filter_] # data frame with filter applied\n",
    "    else:\n",
    "        df = df_collision[:]\n",
    "    \n",
    "    Ncauses = len(df)*5 - df[CF].isnull().unstack().sum()\n",
    "    for cf in CF:\n",
    "        \n",
    "        causes_v = df.groupby(cf).size()/Ncauses\n",
    "        causes_v = causes_v.add(pd.Series(np.zeros(len(all_causes)),index = all_causes),fill_value = 0)\n",
    "        \n",
    "        try:\n",
    "            prop_causes = prop_causes + causes_v\n",
    "        except:\n",
    "            prop_causes = causes_v\n",
    "        \n",
    "    return prop_causes[all_causes]"
   ]
  },
  {
   "cell_type": "markdown",
   "metadata": {},
   "source": [
    "### Distinguishing between injured/fatal"
   ]
  },
  {
   "cell_type": "code",
   "execution_count": null,
   "metadata": {},
   "outputs": [],
   "source": [
    "prop_causes = extract_causes()\n",
    "prop_causes.sort_values(ascending=False,inplace=True)\n",
    "\n",
    "prop_injury_causes = extract_causes(df_collision['NUMBER_OF_PERSONS_INJURED'] > 0)\n",
    "prop_injury_causes = prop_injury_causes[prop_causes.index]\n",
    "\n",
    "prop_fatal_causes = extract_causes(df_collision['NUMBER_OF_PERSONS_KILLED'] > 0)\n",
    "prop_fatal_causes = prop_fatal_causes[prop_causes.index]"
   ]
  },
  {
   "cell_type": "code",
   "execution_count": null,
   "metadata": {},
   "outputs": [],
   "source": [
    "# std_prop_causes = prop_causes.apply(lambda x: (x*(1-x)/N_collision)**0.5)\n",
    "# std_prop_injury_causes = prop_injury_causes.apply(lambda x: (x*(1-x)/N_injury)**0.5)\n",
    "# std_prop_fatal_causes = prop_fatal_causes.apply(lambda x: (x*(1-x)/N_fatal)**0.5)"
   ]
  },
  {
   "cell_type": "code",
   "execution_count": null,
   "metadata": {
    "scrolled": false
   },
   "outputs": [],
   "source": [
    "fig = plt.figure(figsize=(15, 10))\n",
    "\n",
    "\n",
    "x_causes = np.arange(1,len(all_causes)+1)\n",
    "\n",
    "plt.bar(x_causes-0.3, height = prop_causes*100, width = 0.3,\n",
    "        label = 'Total',color = 'darkorange')\n",
    " \n",
    "#         yerr = std_prop_causes*100, error_kw=dict(ecolor='black', lw=1, capsize=2, capthick=1));\n",
    "\n",
    "# Injured only\n",
    "plt.bar(x_causes, height = prop_injury_causes*100, width = 0.3, \n",
    "         label = 'Injuries',color = 'orange')\n",
    "#        yerr = std_prop_injury_causes*100, error_kw=dict(ecolor='black', lw=1, capsize=2, capthick=1));\n",
    "\n",
    "# At least one fatality\n",
    "plt.bar(x_causes+0.3, height = prop_fatal_causes*100, width = 0.3, \n",
    "        label = 'Fatalities', color = 'navajowhite')\n",
    "#        yerr = np.array(std_prop_fatal_causes)*100, error_kw=dict(ecolor='black', lw=1, capsize=2, capthick=1));\n",
    "\n",
    "plt.legend()\n",
    "\n",
    "plt.xticks(x_causes, prop_causes.index,rotation = 90);\n",
    "plt.title('Percentage of accidents per cause',fontsize = 15);"
   ]
  },
  {
   "cell_type": "markdown",
   "metadata": {},
   "source": [
    "We can extract the main causes of accidents\n",
    "\n",
    "   1) Driver inattention  <br>\n",
    "   2) Failing to give the right-of-way\n",
    "\n",
    "In addition, we can see that there are additional causes when looking at fatal accidents:\n",
    " \n",
    "   1) Traffic control disregarded <br>\n",
    "   2) Unsage speed <br>\n",
    "   3) Passenger distration <br>\n",
    "   4) Alcohol <br>"
   ]
  },
  {
   "cell_type": "markdown",
   "metadata": {},
   "source": [
    "### Distinguishing between Day and Night"
   ]
  },
  {
   "cell_type": "code",
   "execution_count": null,
   "metadata": {},
   "outputs": [],
   "source": [
    "begin_night = datetime.datetime.strptime('22:00','%H:%M').time()\n",
    "end_night = datetime.datetime.strptime('5:00','%H:%M').time()"
   ]
  },
  {
   "cell_type": "code",
   "execution_count": null,
   "metadata": {},
   "outputs": [],
   "source": [
    "night_filter = ((df_collision['TIME'] < end_night) | (df_collision['TIME'] > begin_night))"
   ]
  },
  {
   "cell_type": "code",
   "execution_count": null,
   "metadata": {},
   "outputs": [],
   "source": [
    "prop_night_causes = extract_causes(night_filter)\n",
    "prop_night_causes.sort_values(ascending=False,inplace=True)\n",
    "\n",
    "prop_day_causes = extract_causes(~night_filter)\n",
    "prop_day_causes = prop_day_causes[prop_night_causes.index]"
   ]
  },
  {
   "cell_type": "code",
   "execution_count": null,
   "metadata": {},
   "outputs": [],
   "source": [
    "fig = plt.figure(figsize=(15, 10))\n",
    "\n",
    "\n",
    "x_causes = np.arange(1,len(all_causes)+1)\n",
    "\n",
    "plt.bar(x_causes-0.2, height = prop_night_causes*100, width = 0.4,\n",
    "        label = 'Night',color = 'darkorange')\n",
    " \n",
    "#         yerr = std_prop_causes*100, error_kw=dict(ecolor='black', lw=1, capsize=2, capthick=1));\n",
    "\n",
    "# Injured only\n",
    "plt.bar(x_causes+0.2, height = prop_day_causes*100, width = 0.4, \n",
    "         label = 'Day',color = 'navajowhite')\n",
    "#        yerr = std_prop_injury_causes*100, error_kw=dict(ecolor='black', lw=1, capsize=2, capthick=1));\n",
    "\n",
    "\n",
    "plt.legend()\n",
    "\n",
    "plt.xticks(x_causes, prop_night_causes.index,rotation = 90);\n",
    "plt.title('Percentage of accidents per cause',fontsize = 15);"
   ]
  },
  {
   "cell_type": "code",
   "execution_count": null,
   "metadata": {},
   "outputs": [],
   "source": []
  }
 ],
 "metadata": {
  "kernelspec": {
   "display_name": "Python 3",
   "language": "python",
   "name": "python3"
  },
  "language_info": {
   "codemirror_mode": {
    "name": "ipython",
    "version": 3
   },
   "file_extension": ".py",
   "mimetype": "text/x-python",
   "name": "python",
   "nbconvert_exporter": "python",
   "pygments_lexer": "ipython3",
   "version": "3.6.5"
  },
  "toc": {
   "base_numbering": 1,
   "nav_menu": {},
   "number_sections": true,
   "sideBar": true,
   "skip_h1_title": true,
   "title_cell": "Table of Contents",
   "title_sidebar": "Contents",
   "toc_cell": false,
   "toc_position": {},
   "toc_section_display": true,
   "toc_window_display": false
  }
 },
 "nbformat": 4,
 "nbformat_minor": 2
}
