{
 "cells": [
  {
   "cell_type": "markdown",
   "metadata": {
    "extensions": {
     "jupyter_dashboards": {
      "version": 1,
      "views": {
       "grid_default": {
        "col": 0,
        "height": 6,
        "hidden": false,
        "row": 0,
        "width": 12
       },
       "report_default": {
        "hidden": false
       }
      }
     }
    }
   },
   "source": [
    "# <b>NYC Motor Vehicle Collisions</b>\n",
    "\n",
    "\n",
    "## Import Libraries and Data\n",
    "\n",
    "### Libraries"
   ]
  },
  {
   "cell_type": "code",
   "execution_count": 1,
   "metadata": {
    "extensions": {
     "jupyter_dashboards": {
      "version": 1,
      "views": {
       "grid_default": {
        "hidden": true
       },
       "report_default": {
        "hidden": true
       }
      }
     }
    },
    "scrolled": true
   },
   "outputs": [],
   "source": [
    "# Data libraries\n",
    "import pandas as pd\n",
    "import numpy as np\n",
    "import datetime\n",
    "\n",
    "# Regex\n",
    "import re\n",
    "\n",
    "# Maps\n",
    "from mpl_toolkits.basemap import Basemap\n",
    "\n",
    "# Plot libraries\n",
    "import matplotlib as mpl\n",
    "import matplotlib.pyplot as plt\n",
    "import matplotlib.patches as patches\n",
    "import matplotlib.dates as mdates\n",
    "mpl.rc('font',family='Open Sans') # change the font of the plot\n",
    "\n",
    "import seaborn as sns\n",
    "% matplotlib inline"
   ]
  },
  {
   "cell_type": "markdown",
   "metadata": {
    "extensions": {
     "jupyter_dashboards": {
      "version": 1,
      "views": {
       "grid_default": {
        "col": 0,
        "height": 4,
        "hidden": false,
        "row": 6,
        "width": 4
       },
       "report_default": {
        "hidden": false
       }
      }
     }
    }
   },
   "source": [
    "### Data: Collisions\n",
    "The data is collected from:\n",
    "https://data.cityofnewyork.us/Public-Safety/NYPD-Motor-Vehicle-Collisions/h9gi-nx95"
   ]
  },
  {
   "cell_type": "code",
   "execution_count": 2,
   "metadata": {
    "extensions": {
     "jupyter_dashboards": {
      "version": 1,
      "views": {
       "grid_default": {
        "col": 0,
        "height": 9,
        "hidden": false,
        "row": 10,
        "width": 12
       },
       "report_default": {
        "hidden": false
       }
      }
     }
    }
   },
   "outputs": [
    {
     "data": {
      "text/html": [
       "<div>\n",
       "<style scoped>\n",
       "    .dataframe tbody tr th:only-of-type {\n",
       "        vertical-align: middle;\n",
       "    }\n",
       "\n",
       "    .dataframe tbody tr th {\n",
       "        vertical-align: top;\n",
       "    }\n",
       "\n",
       "    .dataframe thead th {\n",
       "        text-align: right;\n",
       "    }\n",
       "</style>\n",
       "<table border=\"1\" class=\"dataframe\">\n",
       "  <thead>\n",
       "    <tr style=\"text-align: right;\">\n",
       "      <th></th>\n",
       "      <th>BOROUGH</th>\n",
       "      <th>CONTRIBUTING_FACTOR_VEHICLE_1</th>\n",
       "      <th>CONTRIBUTING_FACTOR_VEHICLE_2</th>\n",
       "      <th>CONTRIBUTING_FACTOR_VEHICLE_3</th>\n",
       "      <th>CONTRIBUTING_FACTOR_VEHICLE_4</th>\n",
       "      <th>CONTRIBUTING_FACTOR_VEHICLE_5</th>\n",
       "      <th>CROSS_STREET_NAME</th>\n",
       "      <th>DATE</th>\n",
       "      <th>LATITUDE</th>\n",
       "      <th>LOCATION</th>\n",
       "      <th>...</th>\n",
       "      <th>OFF_STREET_NAME</th>\n",
       "      <th>ON_STREET_NAME</th>\n",
       "      <th>TIME</th>\n",
       "      <th>UNIQUE_KEY</th>\n",
       "      <th>VEHICLE_TYPE_CODE_1</th>\n",
       "      <th>VEHICLE_TYPE_CODE_2</th>\n",
       "      <th>VEHICLE_TYPE_CODE_3</th>\n",
       "      <th>VEHICLE_TYPE_CODE_4</th>\n",
       "      <th>VEHICLE_TYPE_CODE_5</th>\n",
       "      <th>ZIP_CODE</th>\n",
       "    </tr>\n",
       "  </thead>\n",
       "  <tbody>\n",
       "    <tr>\n",
       "      <th>0</th>\n",
       "      <td>QUEENS</td>\n",
       "      <td>Unspecified</td>\n",
       "      <td>NaN</td>\n",
       "      <td>NaN</td>\n",
       "      <td>NaN</td>\n",
       "      <td>NaN</td>\n",
       "      <td>1         RAILROAD PLACE</td>\n",
       "      <td>2017-03-20T00:00:00.000</td>\n",
       "      <td>40.723854</td>\n",
       "      <td>{'type': 'Point', 'coordinates': [-73.917305, ...</td>\n",
       "      <td>...</td>\n",
       "      <td>NaN</td>\n",
       "      <td>NaN</td>\n",
       "      <td>8:53</td>\n",
       "      <td>3635593</td>\n",
       "      <td>NaN</td>\n",
       "      <td>NaN</td>\n",
       "      <td>NaN</td>\n",
       "      <td>NaN</td>\n",
       "      <td>NaN</td>\n",
       "      <td>11378</td>\n",
       "    </tr>\n",
       "    <tr>\n",
       "      <th>1</th>\n",
       "      <td>BRONX</td>\n",
       "      <td>Obstruction/Debris</td>\n",
       "      <td>NaN</td>\n",
       "      <td>NaN</td>\n",
       "      <td>NaN</td>\n",
       "      <td>NaN</td>\n",
       "      <td>NaN</td>\n",
       "      <td>2017-03-20T00:00:00.000</td>\n",
       "      <td>40.832280</td>\n",
       "      <td>{'type': 'Point', 'coordinates': [-73.871315, ...</td>\n",
       "      <td>...</td>\n",
       "      <td>CROES AVENUE</td>\n",
       "      <td>EAST 172 STREET</td>\n",
       "      <td>10:30</td>\n",
       "      <td>3635591</td>\n",
       "      <td>NaN</td>\n",
       "      <td>NaN</td>\n",
       "      <td>NaN</td>\n",
       "      <td>NaN</td>\n",
       "      <td>NaN</td>\n",
       "      <td>10472</td>\n",
       "    </tr>\n",
       "  </tbody>\n",
       "</table>\n",
       "<p>2 rows × 29 columns</p>\n",
       "</div>"
      ],
      "text/plain": [
       "  BOROUGH CONTRIBUTING_FACTOR_VEHICLE_1 CONTRIBUTING_FACTOR_VEHICLE_2  \\\n",
       "0  QUEENS                   Unspecified                           NaN   \n",
       "1   BRONX            Obstruction/Debris                           NaN   \n",
       "\n",
       "  CONTRIBUTING_FACTOR_VEHICLE_3 CONTRIBUTING_FACTOR_VEHICLE_4  \\\n",
       "0                           NaN                           NaN   \n",
       "1                           NaN                           NaN   \n",
       "\n",
       "  CONTRIBUTING_FACTOR_VEHICLE_5                         CROSS_STREET_NAME  \\\n",
       "0                           NaN  1         RAILROAD PLACE                   \n",
       "1                           NaN                                       NaN   \n",
       "\n",
       "                      DATE   LATITUDE  \\\n",
       "0  2017-03-20T00:00:00.000  40.723854   \n",
       "1  2017-03-20T00:00:00.000  40.832280   \n",
       "\n",
       "                                            LOCATION   ...     \\\n",
       "0  {'type': 'Point', 'coordinates': [-73.917305, ...   ...      \n",
       "1  {'type': 'Point', 'coordinates': [-73.871315, ...   ...      \n",
       "\n",
       "   OFF_STREET_NAME                    ON_STREET_NAME   TIME  UNIQUE_KEY  \\\n",
       "0              NaN                               NaN   8:53     3635593   \n",
       "1     CROES AVENUE  EAST 172 STREET                   10:30     3635591   \n",
       "\n",
       "   VEHICLE_TYPE_CODE_1  VEHICLE_TYPE_CODE_2  VEHICLE_TYPE_CODE_3  \\\n",
       "0                  NaN                  NaN                  NaN   \n",
       "1                  NaN                  NaN                  NaN   \n",
       "\n",
       "   VEHICLE_TYPE_CODE_4  VEHICLE_TYPE_CODE_5 ZIP_CODE  \n",
       "0                  NaN                  NaN    11378  \n",
       "1                  NaN                  NaN    10472  \n",
       "\n",
       "[2 rows x 29 columns]"
      ]
     },
     "execution_count": 2,
     "metadata": {},
     "output_type": "execute_result"
    }
   ],
   "source": [
    "df_collision = pd.read_csv('Collisions.csv',low_memory=False)\n",
    "df_collision.rename({'VEHICLE_TYPE_CODE1':'VEHICLE_TYPE_CODE_1', \n",
    "                     'VEHICLE_TYPE_CODE2':'VEHICLE_TYPE_CODE_2'}, axis='columns',inplace=True)\n",
    "df_collision.head(2)"
   ]
  },
  {
   "cell_type": "markdown",
   "metadata": {
    "extensions": {
     "jupyter_dashboards": {
      "version": 1,
      "views": {
       "grid_default": {},
       "report_default": {
        "hidden": false
       }
      }
     }
    }
   },
   "source": [
    "Let us have a brief look at the data"
   ]
  },
  {
   "cell_type": "code",
   "execution_count": 3,
   "metadata": {
    "extensions": {
     "jupyter_dashboards": {
      "version": 1,
      "views": {
       "grid_default": {
        "col": 0,
        "height": 39,
        "hidden": false,
        "row": 19,
        "width": 4
       },
       "report_default": {
        "hidden": false
       }
      }
     }
    },
    "scrolled": false
   },
   "outputs": [
    {
     "name": "stdout",
     "output_type": "stream",
     "text": [
      "<class 'pandas.core.frame.DataFrame'>\n",
      "RangeIndex: 1084252 entries, 0 to 1084251\n",
      "Data columns (total 29 columns):\n",
      "BOROUGH                          771871 non-null object\n",
      "CONTRIBUTING_FACTOR_VEHICLE_1    1078872 non-null object\n",
      "CONTRIBUTING_FACTOR_VEHICLE_2    934895 non-null object\n",
      "CONTRIBUTING_FACTOR_VEHICLE_3    70222 non-null object\n",
      "CONTRIBUTING_FACTOR_VEHICLE_4    15198 non-null object\n",
      "CONTRIBUTING_FACTOR_VEHICLE_5    3742 non-null object\n",
      "CROSS_STREET_NAME                180004 non-null object\n",
      "DATE                             1084252 non-null object\n",
      "LATITUDE                         885923 non-null float64\n",
      "LOCATION                         885923 non-null object\n",
      "LONGITUDE                        885923 non-null float64\n",
      "NUMBER_OF_CYCLIST_INJURED        1084252 non-null int64\n",
      "NUMBER_OF_CYCLIST_KILLED         1084252 non-null int64\n",
      "NUMBER_OF_MOTORIST_INJURED       1084252 non-null int64\n",
      "NUMBER_OF_MOTORIST_KILLED        1084252 non-null int64\n",
      "NUMBER_OF_PEDESTRIANS_INJURED    1084252 non-null int64\n",
      "NUMBER_OF_PEDESTRIANS_KILLED     1084252 non-null int64\n",
      "NUMBER_OF_PERSONS_INJURED        1084252 non-null int64\n",
      "NUMBER_OF_PERSONS_KILLED         1084252 non-null int64\n",
      "OFF_STREET_NAME                  811772 non-null object\n",
      "ON_STREET_NAME                   868356 non-null object\n",
      "TIME                             1084252 non-null object\n",
      "UNIQUE_KEY                       1084252 non-null int64\n",
      "VEHICLE_TYPE_CODE_1              1075362 non-null object\n",
      "VEHICLE_TYPE_CODE_2              916094 non-null object\n",
      "VEHICLE_TYPE_CODE_3              100259 non-null object\n",
      "VEHICLE_TYPE_CODE_4              42586 non-null object\n",
      "VEHICLE_TYPE_CODE_5              8837 non-null object\n",
      "ZIP_CODE                         771782 non-null object\n",
      "dtypes: float64(2), int64(9), object(18)\n",
      "memory usage: 239.9+ MB\n"
     ]
    }
   ],
   "source": [
    "df_collision.info()"
   ]
  },
  {
   "cell_type": "markdown",
   "metadata": {
    "extensions": {
     "jupyter_dashboards": {
      "version": 1,
      "views": {
       "grid_default": {
        "col": 8,
        "height": 4,
        "hidden": false,
        "row": 6,
        "width": 4
       },
       "report_default": {
        "hidden": false
       }
      }
     }
    }
   },
   "source": [
    "First, notice that some of the location features are missing. In fact we can compute the number of entries which have no information about the location:"
   ]
  },
  {
   "cell_type": "code",
   "execution_count": 4,
   "metadata": {
    "extensions": {
     "jupyter_dashboards": {
      "version": 1,
      "views": {
       "grid_default": {
        "col": 4,
        "height": 4,
        "hidden": false,
        "row": 19,
        "width": 4
       },
       "report_default": {
        "hidden": false
       }
      }
     }
    },
    "scrolled": false
   },
   "outputs": [
    {
     "name": "stdout",
     "output_type": "stream",
     "text": [
      "Proportion of data with no location information:  15.2175877932 %\n"
     ]
    }
   ],
   "source": [
    "location_features = ['BOROUGH', 'ZIP_CODE', 'LATITUDE','LONGITUDE','LOCATION']\n",
    "no_location = df_collision[location_features].isnull().all(1).sum()\n",
    "print('Proportion of data with no location information: ', no_location/len(df_collision)*100,'%')"
   ]
  },
  {
   "cell_type": "markdown",
   "metadata": {
    "extensions": {
     "jupyter_dashboards": {
      "version": 1,
      "views": {
       "grid_default": {
        "col": 8,
        "height": 4,
        "hidden": false,
        "row": 19,
        "width": 4
       },
       "report_default": {
        "hidden": false
       }
      }
     }
    }
   },
   "source": [
    "So about 15% of the data have location information missing.\n",
    "\n",
    "Let us clean the *df_collision* data frame up a bit. Firstly, let us change the <b>DATE</b> and <b>TIME</b> columns into a proper datetime object:"
   ]
  },
  {
   "cell_type": "code",
   "execution_count": 5,
   "metadata": {
    "extensions": {
     "jupyter_dashboards": {
      "version": 1,
      "views": {
       "grid_default": {
        "hidden": true
       },
       "report_default": {
        "hidden": true
       }
      }
     }
    },
    "scrolled": true
   },
   "outputs": [],
   "source": [
    "def to_date(date):\n",
    "    '''\n",
    "    Change a string \"month-day-year\" into a datetime object\n",
    "    '''\n",
    "    return datetime.datetime.strptime(date,'%Y-%m-%d')\n",
    "\n",
    "def to_time(time):\n",
    "    '''\n",
    "    Change a string \"hour:minute\" into a datetime object\n",
    "    '''\n",
    "    return datetime.datetime.strptime(time,'%H:%M').time();\n",
    "\n",
    "try:\n",
    "    df_collision['DATE'] = df_collision['DATE'].apply(lambda x: x[:10])\n",
    "    df_collision['DATE'] = df_collision['DATE'].apply(to_date)\n",
    "except:\n",
    "    None\n",
    "try:\n",
    "    df_collision['TIME'] = df_collision['TIME'].apply(to_time)\n",
    "except:\n",
    "    None"
   ]
  },
  {
   "cell_type": "code",
   "execution_count": 6,
   "metadata": {
    "extensions": {
     "jupyter_dashboards": {
      "version": 1,
      "views": {
       "grid_default": {},
       "report_default": {
        "hidden": false
       }
      }
     }
    },
    "scrolled": true
   },
   "outputs": [
    {
     "data": {
      "text/plain": [
       "BOROUGH                                  object\n",
       "CONTRIBUTING_FACTOR_VEHICLE_1            object\n",
       "CONTRIBUTING_FACTOR_VEHICLE_2            object\n",
       "CONTRIBUTING_FACTOR_VEHICLE_3            object\n",
       "CONTRIBUTING_FACTOR_VEHICLE_4            object\n",
       "CONTRIBUTING_FACTOR_VEHICLE_5            object\n",
       "CROSS_STREET_NAME                        object\n",
       "DATE                             datetime64[ns]\n",
       "LATITUDE                                float64\n",
       "LOCATION                                 object\n",
       "LONGITUDE                               float64\n",
       "NUMBER_OF_CYCLIST_INJURED                 int64\n",
       "NUMBER_OF_CYCLIST_KILLED                  int64\n",
       "NUMBER_OF_MOTORIST_INJURED                int64\n",
       "NUMBER_OF_MOTORIST_KILLED                 int64\n",
       "NUMBER_OF_PEDESTRIANS_INJURED             int64\n",
       "NUMBER_OF_PEDESTRIANS_KILLED              int64\n",
       "NUMBER_OF_PERSONS_INJURED                 int64\n",
       "NUMBER_OF_PERSONS_KILLED                  int64\n",
       "OFF_STREET_NAME                          object\n",
       "ON_STREET_NAME                           object\n",
       "TIME                                     object\n",
       "UNIQUE_KEY                                int64\n",
       "VEHICLE_TYPE_CODE_1                      object\n",
       "VEHICLE_TYPE_CODE_2                      object\n",
       "VEHICLE_TYPE_CODE_3                      object\n",
       "VEHICLE_TYPE_CODE_4                      object\n",
       "VEHICLE_TYPE_CODE_5                      object\n",
       "ZIP_CODE                                 object\n",
       "dtype: object"
      ]
     },
     "execution_count": 6,
     "metadata": {},
     "output_type": "execute_result"
    }
   ],
   "source": [
    "df_collision.dtypes"
   ]
  },
  {
   "cell_type": "code",
   "execution_count": 7,
   "metadata": {
    "extensions": {
     "jupyter_dashboards": {
      "version": 1,
      "views": {
       "grid_default": {},
       "report_default": {
        "hidden": false
       }
      }
     }
    }
   },
   "outputs": [
    {
     "data": {
      "text/plain": [
       "dtype('<M8[ns]')"
      ]
     },
     "execution_count": 7,
     "metadata": {},
     "output_type": "execute_result"
    }
   ],
   "source": [
    "df_collision['DATE'].dtype"
   ]
  },
  {
   "cell_type": "markdown",
   "metadata": {
    "extensions": {
     "jupyter_dashboards": {
      "version": 1,
      "views": {
       "grid_default": {
        "col": 4,
        "height": 4,
        "hidden": false,
        "row": 23,
        "width": 4
       },
       "report_default": {
        "hidden": false
       }
      }
     }
    }
   },
   "source": [
    "Let us then change the <b>ZIP_CODE</b> into integers and assign missing values to -1"
   ]
  },
  {
   "cell_type": "code",
   "execution_count": 8,
   "metadata": {
    "extensions": {
     "jupyter_dashboards": {
      "version": 1,
      "views": {
       "grid_default": {
        "hidden": true
       },
       "report_default": {
        "hidden": true
       }
      }
     }
    },
    "scrolled": true
   },
   "outputs": [],
   "source": [
    "if df_collision['ZIP_CODE'].dtype == 'O':\n",
    "    # find the missing zip code\n",
    "    null_zip = (df_collision['ZIP_CODE'].isnull())|(df_collision['ZIP_CODE'].str.strip()=='')\n",
    "    # assign missing zip code to -1\n",
    "    df_collision['ZIP_CODE'] = np.where(null_zip ,-1,df_collision['ZIP_CODE'].str.strip())\n",
    "    # convert to int\n",
    "    df_collision['ZIP_CODE'] = df_collision['ZIP_CODE'].astype(int)"
   ]
  },
  {
   "cell_type": "markdown",
   "metadata": {
    "extensions": {
     "jupyter_dashboards": {
      "version": 1,
      "views": {
       "grid_default": {
        "col": 0,
        "height": 5,
        "hidden": false,
        "row": 58,
        "width": 12
       },
       "report_default": {
        "hidden": false
       }
      }
     }
    }
   },
   "source": [
    "Finally, let's remove: \n",
    "   >- <b>LOCATION</b> attribute since it is redundant (if LATITUDE and LONGITUDE is missing than so is the LOCATION feature so it can't be used to complete the data).\n",
    "   \n",
    "   >- <b>UNIQUE KEY</b> since it is not clear what it refers to"
   ]
  },
  {
   "cell_type": "code",
   "execution_count": 9,
   "metadata": {
    "extensions": {
     "jupyter_dashboards": {
      "version": 1,
      "views": {
       "grid_default": {
        "hidden": true
       },
       "report_default": {
        "hidden": true
       }
      }
     }
    },
    "scrolled": true
   },
   "outputs": [],
   "source": [
    "if 'LOCATION' in df_collision.columns:\n",
    "    del df_collision['LOCATION']\n",
    "\n",
    "if 'UNIQUE_KEY' in df_collision.columns:\n",
    "    del df_collision['UNIQUE_KEY']\n",
    "    "
   ]
  },
  {
   "cell_type": "markdown",
   "metadata": {
    "extensions": {
     "jupyter_dashboards": {
      "version": 1,
      "views": {
       "grid_default": {},
       "report_default": {
        "hidden": false
       }
      }
     }
    }
   },
   "source": [
    "Let us finally store the number of entries into a variable N_collision"
   ]
  },
  {
   "cell_type": "code",
   "execution_count": 10,
   "metadata": {
    "extensions": {
     "jupyter_dashboards": {
      "version": 1,
      "views": {
       "grid_default": {
        "col": 8,
        "height": 4,
        "hidden": false,
        "row": 23,
        "width": 4
       },
       "report_default": {
        "hidden": false
       }
      }
     }
    },
    "scrolled": false
   },
   "outputs": [
    {
     "name": "stdout",
     "output_type": "stream",
     "text": [
      "Number of collisions reported:  1084252\n"
     ]
    }
   ],
   "source": [
    "N_collision = len(df_collision)\n",
    "print(\"Number of collisions reported: \", N_collision)"
   ]
  },
  {
   "cell_type": "markdown",
   "metadata": {
    "extensions": {
     "jupyter_dashboards": {
      "version": 1,
      "views": {
       "grid_default": {
        "col": 4,
        "height": 4,
        "hidden": false,
        "row": 27,
        "width": 4
       },
       "report_default": {
        "hidden": false
       }
      }
     }
    }
   },
   "source": [
    "### Data: Traffic Volume\n",
    "The data is collected from:\n",
    "https://data.cityofnewyork.us/Transportation/Traffic-Volume-Counts-2012-2013-/p424-amsu"
   ]
  },
  {
   "cell_type": "code",
   "execution_count": 11,
   "metadata": {
    "extensions": {
     "jupyter_dashboards": {
      "version": 1,
      "views": {
       "grid_default": {
        "col": 0,
        "height": 6,
        "hidden": false,
        "row": 63,
        "width": 12
       },
       "report_default": {
        "hidden": false
       }
      }
     }
    },
    "scrolled": true
   },
   "outputs": [
    {
     "data": {
      "text/html": [
       "<div>\n",
       "<style scoped>\n",
       "    .dataframe tbody tr th:only-of-type {\n",
       "        vertical-align: middle;\n",
       "    }\n",
       "\n",
       "    .dataframe tbody tr th {\n",
       "        vertical-align: top;\n",
       "    }\n",
       "\n",
       "    .dataframe thead th {\n",
       "        text-align: right;\n",
       "    }\n",
       "</style>\n",
       "<table border=\"1\" class=\"dataframe\">\n",
       "  <thead>\n",
       "    <tr style=\"text-align: right;\">\n",
       "      <th></th>\n",
       "      <th>_10_00_11_00AM</th>\n",
       "      <th>_10_00_11_00PM</th>\n",
       "      <th>_11_00_12_00AM</th>\n",
       "      <th>_11_00_12_00PM</th>\n",
       "      <th>_12_00_1_00_AM</th>\n",
       "      <th>_12_00_1_00PM</th>\n",
       "      <th>_1_00_2_00AM</th>\n",
       "      <th>_1_00_2_00PM</th>\n",
       "      <th>_2_00_3_00AM</th>\n",
       "      <th>_2_00_3_00PM</th>\n",
       "      <th>...</th>\n",
       "      <th>DATE</th>\n",
       "      <th>DIRECTION</th>\n",
       "      <th>FROM</th>\n",
       "      <th>ID</th>\n",
       "      <th>ROADWAY_NAME</th>\n",
       "      <th>SEGMENT_ID</th>\n",
       "      <th>TO</th>\n",
       "      <th>LATITUDE</th>\n",
       "      <th>LONGITUDE</th>\n",
       "      <th>BOROUGH</th>\n",
       "    </tr>\n",
       "  </thead>\n",
       "  <tbody>\n",
       "    <tr>\n",
       "      <th>0</th>\n",
       "      <td>387.0</td>\n",
       "      <td>187.0</td>\n",
       "      <td>169.0</td>\n",
       "      <td>335.0</td>\n",
       "      <td>106.0</td>\n",
       "      <td>406.0</td>\n",
       "      <td>74.0</td>\n",
       "      <td>411.0</td>\n",
       "      <td>45.0</td>\n",
       "      <td>371.0</td>\n",
       "      <td>...</td>\n",
       "      <td>2013-02-02T00:00:00.000</td>\n",
       "      <td>NB</td>\n",
       "      <td>WOODROW RD</td>\n",
       "      <td>1.0</td>\n",
       "      <td>HUGUENOT AVE</td>\n",
       "      <td>2153.0</td>\n",
       "      <td>STAFFORD AVE</td>\n",
       "      <td>40.542882</td>\n",
       "      <td>-74.197147</td>\n",
       "      <td>STATEN ISLAND</td>\n",
       "    </tr>\n",
       "    <tr>\n",
       "      <th>1</th>\n",
       "      <td>249.0</td>\n",
       "      <td>125.0</td>\n",
       "      <td>79.0</td>\n",
       "      <td>351.0</td>\n",
       "      <td>109.0</td>\n",
       "      <td>374.0</td>\n",
       "      <td>74.0</td>\n",
       "      <td>350.0</td>\n",
       "      <td>55.0</td>\n",
       "      <td>308.0</td>\n",
       "      <td>...</td>\n",
       "      <td>2013-02-03T00:00:00.000</td>\n",
       "      <td>NB</td>\n",
       "      <td>WOODROW RD</td>\n",
       "      <td>1.0</td>\n",
       "      <td>HUGUENOT AVE</td>\n",
       "      <td>2153.0</td>\n",
       "      <td>STAFFORD AVE</td>\n",
       "      <td>40.542882</td>\n",
       "      <td>-74.197147</td>\n",
       "      <td>STATEN ISLAND</td>\n",
       "    </tr>\n",
       "  </tbody>\n",
       "</table>\n",
       "<p>2 rows × 34 columns</p>\n",
       "</div>"
      ],
      "text/plain": [
       "   _10_00_11_00AM  _10_00_11_00PM  _11_00_12_00AM  _11_00_12_00PM  \\\n",
       "0           387.0           187.0           169.0           335.0   \n",
       "1           249.0           125.0            79.0           351.0   \n",
       "\n",
       "   _12_00_1_00_AM  _12_00_1_00PM  _1_00_2_00AM  _1_00_2_00PM  _2_00_3_00AM  \\\n",
       "0           106.0          406.0          74.0         411.0          45.0   \n",
       "1           109.0          374.0          74.0         350.0          55.0   \n",
       "\n",
       "   _2_00_3_00PM      ...                           DATE  DIRECTION  \\\n",
       "0         371.0      ...        2013-02-02T00:00:00.000         NB   \n",
       "1         308.0      ...        2013-02-03T00:00:00.000         NB   \n",
       "\n",
       "         FROM   ID  ROADWAY_NAME  SEGMENT_ID            TO   LATITUDE  \\\n",
       "0  WOODROW RD  1.0  HUGUENOT AVE      2153.0  STAFFORD AVE  40.542882   \n",
       "1  WOODROW RD  1.0  HUGUENOT AVE      2153.0  STAFFORD AVE  40.542882   \n",
       "\n",
       "   LONGITUDE        BOROUGH  \n",
       "0 -74.197147  STATEN ISLAND  \n",
       "1 -74.197147  STATEN ISLAND  \n",
       "\n",
       "[2 rows x 34 columns]"
      ]
     },
     "execution_count": 11,
     "metadata": {},
     "output_type": "execute_result"
    }
   ],
   "source": [
    "df_traffic = pd.read_csv('Traffic_Volume.csv')\n",
    "df_traffic.head(2)"
   ]
  },
  {
   "cell_type": "code",
   "execution_count": 12,
   "metadata": {
    "extensions": {
     "jupyter_dashboards": {
      "version": 1,
      "views": {
       "grid_default": {
        "col": 0,
        "height": 44,
        "hidden": false,
        "row": 69,
        "width": 4
       },
       "report_default": {
        "hidden": false
       }
      }
     }
    },
    "scrolled": false
   },
   "outputs": [
    {
     "name": "stdout",
     "output_type": "stream",
     "text": [
      "<class 'pandas.core.frame.DataFrame'>\n",
      "RangeIndex: 5945 entries, 0 to 5944\n",
      "Data columns (total 34 columns):\n",
      "_10_00_11_00AM    5945 non-null float64\n",
      "_10_00_11_00PM    5945 non-null float64\n",
      "_11_00_12_00AM    5945 non-null float64\n",
      "_11_00_12_00PM    5945 non-null float64\n",
      "_12_00_1_00_AM    5945 non-null float64\n",
      "_12_00_1_00PM     5945 non-null float64\n",
      "_1_00_2_00AM      5945 non-null float64\n",
      "_1_00_2_00PM      5945 non-null float64\n",
      "_2_00_3_00AM      5945 non-null float64\n",
      "_2_00_3_00PM      5945 non-null float64\n",
      "_3_00_4_00AM      5945 non-null float64\n",
      "_3_00_4_00PM      5945 non-null float64\n",
      "_4_00_5_00AM      5945 non-null float64\n",
      "_4_00_5_00PM      5945 non-null float64\n",
      "_5_00_6_00AM      5945 non-null float64\n",
      "_5_00_6_00PM      5945 non-null float64\n",
      "_6_00_7_00AM      5945 non-null float64\n",
      "_6_00_7_00PM      5945 non-null float64\n",
      "_7_00_8_00AM      5945 non-null float64\n",
      "_7_00_8_00PM      5945 non-null float64\n",
      "_8_00_9_00AM      5945 non-null float64\n",
      "_8_00_9_00PM      5945 non-null float64\n",
      "_9_00_10_00AM     5945 non-null float64\n",
      "_9_00_10_00PM     5945 non-null float64\n",
      "DATE              5945 non-null object\n",
      "DIRECTION         5945 non-null object\n",
      "FROM              5945 non-null object\n",
      "ID                5945 non-null float64\n",
      "ROADWAY_NAME      5945 non-null object\n",
      "SEGMENT_ID        5945 non-null float64\n",
      "TO                5945 non-null object\n",
      "LATITUDE          5945 non-null float64\n",
      "LONGITUDE         5945 non-null float64\n",
      "BOROUGH           5844 non-null object\n",
      "dtypes: float64(28), object(6)\n",
      "memory usage: 1.5+ MB\n"
     ]
    }
   ],
   "source": [
    "df_traffic.info()"
   ]
  },
  {
   "cell_type": "markdown",
   "metadata": {
    "extensions": {
     "jupyter_dashboards": {
      "version": 1,
      "views": {
       "grid_default": {
        "col": 8,
        "height": 4,
        "hidden": false,
        "row": 27,
        "width": 4
       },
       "report_default": {
        "hidden": false
       }
      }
     }
    }
   },
   "source": [
    "Notice that some borough are missing"
   ]
  },
  {
   "cell_type": "markdown",
   "metadata": {
    "extensions": {
     "jupyter_dashboards": {
      "version": 1,
      "views": {
       "grid_default": {
        "col": 4,
        "height": 4,
        "hidden": false,
        "row": 31,
        "width": 4
       },
       "report_default": {
        "hidden": false
       }
      }
     }
    }
   },
   "source": [
    "<b> Clean up </b>  \n",
    "First, change the time frames *(_h_m_am/pm)-(_h_m_am/pm)* into *_h-_h* (24 hour format)"
   ]
  },
  {
   "cell_type": "code",
   "execution_count": 13,
   "metadata": {
    "extensions": {
     "jupyter_dashboards": {
      "version": 1,
      "views": {
       "grid_default": {
        "hidden": true
       },
       "report_default": {
        "hidden": true
       }
      }
     }
    },
    "scrolled": true
   },
   "outputs": [],
   "source": [
    "# get all the columns corresponding to a time slot\n",
    "hours = df_traffic.columns[df_traffic.columns.str.match(r'_[\\d]+_00_[\\d]+_00')]\n",
    "\n",
    "# change the time range format\n",
    "def to_time_range(time):\n",
    "\n",
    "    match = re.findall(r'_([\\d]+)_00_([\\d]+)_00[_]*(\\w)\\w',time)\n",
    "    \n",
    "    if match:\n",
    "        h1 = int(match[0][0])\n",
    "        h2 = int(match[0][1])\n",
    "        ampm = match[0][2]\n",
    "        \n",
    "        if ampm == 'A':\n",
    "            if h2 == 12:\n",
    "                h1 = 23\n",
    "                h2 = 0\n",
    "                \n",
    "            if h1 == 12:\n",
    "                h1 = 0\n",
    "        \n",
    "        if ampm == 'P':\n",
    "            h1 = h1 + 12\n",
    "            h2 = h2 + 12\n",
    "            if h2 == 24:\n",
    "                h2 -= 12\n",
    "                h1 -= 12\n",
    "                \n",
    "            if h1 == 24:\n",
    "                h1 = 12\n",
    "        \n",
    "        add_h1 = ''\n",
    "        add_h2 = ''\n",
    "        if h1 < 10:\n",
    "            add_h1 = '0'\n",
    "        if h2 < 10:\n",
    "            add_h2 = '0'\n",
    "        return add_h1+str(h1) + '-' + add_h2+ str(h2)+''\n",
    "    \n",
    "    return time\n",
    "\n",
    "# apply df_time to the time range columns and reorder them \n",
    "df_traffic.rename(to_time_range, axis = 'columns',inplace=True)\n",
    "cols = list(df_traffic.columns)\n",
    "cols.sort()\n",
    "df_traffic = df_traffic[cols]"
   ]
  },
  {
   "cell_type": "markdown",
   "metadata": {
    "extensions": {
     "jupyter_dashboards": {
      "version": 1,
      "views": {
       "grid_default": {},
       "report_default": {
        "hidden": false
       }
      }
     }
    }
   },
   "source": [
    "Finally, let us add a feature which corresponds to the total number of vehicles counted during the day"
   ]
  },
  {
   "cell_type": "code",
   "execution_count": 14,
   "metadata": {
    "extensions": {
     "jupyter_dashboards": {
      "version": 1,
      "views": {
       "grid_default": {
        "hidden": true
       },
       "report_default": {
        "hidden": true
       }
      }
     }
    },
    "scrolled": true
   },
   "outputs": [],
   "source": [
    "# Total Day Volume count\n",
    "hours = df_traffic.columns[df_traffic.columns.str.match(r'[\\d]+-[\\d]+')]\n",
    "df_traffic['TOTAL_DAY'] = df_traffic[hours].sum(axis=1)"
   ]
  },
  {
   "cell_type": "markdown",
   "metadata": {
    "extensions": {
     "jupyter_dashboards": {
      "version": 1,
      "views": {
       "grid_default": {
        "col": 4,
        "height": 4,
        "hidden": false,
        "row": 35,
        "width": 4
       },
       "report_default": {
        "hidden": false
       }
      }
     }
    }
   },
   "source": [
    "<b> Daily Average Volume Count </b>  \n",
    "It is interesting to look at the average daily count of each of the traffic count devide:"
   ]
  },
  {
   "cell_type": "code",
   "execution_count": 15,
   "metadata": {
    "extensions": {
     "jupyter_dashboards": {
      "version": 1,
      "views": {
       "grid_default": {
        "col": 0,
        "height": 6,
        "hidden": false,
        "row": 113,
        "width": 12
       },
       "report_default": {
        "hidden": false
       }
      }
     }
    },
    "scrolled": true
   },
   "outputs": [
    {
     "data": {
      "text/html": [
       "<div>\n",
       "<style scoped>\n",
       "    .dataframe tbody tr th:only-of-type {\n",
       "        vertical-align: middle;\n",
       "    }\n",
       "\n",
       "    .dataframe tbody tr th {\n",
       "        vertical-align: top;\n",
       "    }\n",
       "\n",
       "    .dataframe thead th {\n",
       "        text-align: right;\n",
       "    }\n",
       "</style>\n",
       "<table border=\"1\" class=\"dataframe\">\n",
       "  <thead>\n",
       "    <tr style=\"text-align: right;\">\n",
       "      <th></th>\n",
       "      <th>LONGITUDE</th>\n",
       "      <th>LATITUDE</th>\n",
       "      <th>BOROUGH</th>\n",
       "      <th>00-01</th>\n",
       "      <th>01-02</th>\n",
       "      <th>02-03</th>\n",
       "      <th>03-04</th>\n",
       "      <th>04-05</th>\n",
       "      <th>05-06</th>\n",
       "      <th>06-07</th>\n",
       "      <th>...</th>\n",
       "      <th>15-16</th>\n",
       "      <th>16-17</th>\n",
       "      <th>17-18</th>\n",
       "      <th>18-19</th>\n",
       "      <th>19-20</th>\n",
       "      <th>20-21</th>\n",
       "      <th>21-22</th>\n",
       "      <th>22-23</th>\n",
       "      <th>23-00</th>\n",
       "      <th>TOTAL_DAY</th>\n",
       "    </tr>\n",
       "  </thead>\n",
       "  <tbody>\n",
       "    <tr>\n",
       "      <th>0</th>\n",
       "      <td>-74.237046</td>\n",
       "      <td>40.536190</td>\n",
       "      <td>STATEN ISLAND</td>\n",
       "      <td>30.333333</td>\n",
       "      <td>22.500000</td>\n",
       "      <td>18.666667</td>\n",
       "      <td>14.500000</td>\n",
       "      <td>19.944444</td>\n",
       "      <td>32.055556</td>\n",
       "      <td>61.444444</td>\n",
       "      <td>...</td>\n",
       "      <td>201.277778</td>\n",
       "      <td>202.444444</td>\n",
       "      <td>179.111111</td>\n",
       "      <td>150.555556</td>\n",
       "      <td>122.666667</td>\n",
       "      <td>93.388889</td>\n",
       "      <td>60.777778</td>\n",
       "      <td>49.444444</td>\n",
       "      <td>38.888889</td>\n",
       "      <td>2616.055556</td>\n",
       "    </tr>\n",
       "    <tr>\n",
       "      <th>1</th>\n",
       "      <td>-74.217724</td>\n",
       "      <td>40.539706</td>\n",
       "      <td>STATEN ISLAND</td>\n",
       "      <td>87.611111</td>\n",
       "      <td>58.111111</td>\n",
       "      <td>37.666667</td>\n",
       "      <td>24.222222</td>\n",
       "      <td>28.333333</td>\n",
       "      <td>60.944444</td>\n",
       "      <td>121.222222</td>\n",
       "      <td>...</td>\n",
       "      <td>396.444444</td>\n",
       "      <td>389.055556</td>\n",
       "      <td>376.944444</td>\n",
       "      <td>352.777778</td>\n",
       "      <td>317.388889</td>\n",
       "      <td>256.222222</td>\n",
       "      <td>183.055556</td>\n",
       "      <td>151.222222</td>\n",
       "      <td>111.166667</td>\n",
       "      <td>5330.222222</td>\n",
       "    </tr>\n",
       "  </tbody>\n",
       "</table>\n",
       "<p>2 rows × 28 columns</p>\n",
       "</div>"
      ],
      "text/plain": [
       "   LONGITUDE   LATITUDE        BOROUGH      00-01      01-02      02-03  \\\n",
       "0 -74.237046  40.536190  STATEN ISLAND  30.333333  22.500000  18.666667   \n",
       "1 -74.217724  40.539706  STATEN ISLAND  87.611111  58.111111  37.666667   \n",
       "\n",
       "       03-04      04-05      05-06       06-07     ...            15-16  \\\n",
       "0  14.500000  19.944444  32.055556   61.444444     ...       201.277778   \n",
       "1  24.222222  28.333333  60.944444  121.222222     ...       396.444444   \n",
       "\n",
       "        16-17       17-18       18-19       19-20       20-21       21-22  \\\n",
       "0  202.444444  179.111111  150.555556  122.666667   93.388889   60.777778   \n",
       "1  389.055556  376.944444  352.777778  317.388889  256.222222  183.055556   \n",
       "\n",
       "        22-23       23-00    TOTAL_DAY  \n",
       "0   49.444444   38.888889  2616.055556  \n",
       "1  151.222222  111.166667  5330.222222  \n",
       "\n",
       "[2 rows x 28 columns]"
      ]
     },
     "execution_count": 15,
     "metadata": {},
     "output_type": "execute_result"
    }
   ],
   "source": [
    "# take df_traffic and simply group by position and aggregate the result by takung the mean\n",
    "df_DAVC = df_traffic.groupby(['LONGITUDE','LATITUDE','BOROUGH']).agg(np.mean)\n",
    "\n",
    "# remove ID and SEGMENT_ID\n",
    "del df_DAVC['ID']\n",
    "del df_DAVC['SEGMENT_ID']\n",
    "\n",
    "# reset index\n",
    "df_DAVC.reset_index(inplace = True)\n",
    "\n",
    "# print data frame\n",
    "df_DAVC.head(2)"
   ]
  },
  {
   "cell_type": "markdown",
   "metadata": {
    "extensions": {
     "jupyter_dashboards": {
      "version": 1,
      "views": {
       "grid_default": {
        "col": 8,
        "height": 4,
        "hidden": false,
        "row": 35,
        "width": 4
       },
       "report_default": {
        "hidden": false
       }
      }
     }
    }
   },
   "source": [
    "## Overview\n",
    "\n",
    "Let us first provide a broad overview of the data"
   ]
  },
  {
   "cell_type": "markdown",
   "metadata": {
    "extensions": {
     "jupyter_dashboards": {
      "version": 1,
      "views": {
       "grid_default": {
        "col": 4,
        "height": 4,
        "hidden": false,
        "row": 39,
        "width": 4
       },
       "report_default": {
        "hidden": false
       }
      }
     }
    }
   },
   "source": [
    "### Severity\n",
    "How serious are collisions? To answer this question, we look at a subsample of the data where\n",
    "1. the collision resulted in at least one injury ($\\to$ <b>df_injury</b>)\n",
    "2. the collision resulted in at least one death ($\\to$ <b>df_fatal</b>)"
   ]
  },
  {
   "cell_type": "code",
   "execution_count": 16,
   "metadata": {
    "extensions": {
     "jupyter_dashboards": {
      "version": 1,
      "views": {
       "grid_default": {
        "col": 8,
        "height": 4,
        "hidden": false,
        "row": 39,
        "width": 4
       },
       "report_default": {
        "hidden": false
       }
      }
     }
    },
    "scrolled": true
   },
   "outputs": [
    {
     "name": "stdout",
     "output_type": "stream",
     "text": [
      "Number of accidents with (at least) one injury :  202335\n"
     ]
    }
   ],
   "source": [
    "df_injury = df_collision[(df_collision['NUMBER_OF_PERSONS_INJURED'] > 0)].copy()\n",
    "\n",
    "# store the number of collisions with injury in N_injury\n",
    "N_injury = len(df_injury)\n",
    "print('Number of accidents with (at least) one injury : ', N_injury)"
   ]
  },
  {
   "cell_type": "code",
   "execution_count": 17,
   "metadata": {
    "extensions": {
     "jupyter_dashboards": {
      "version": 1,
      "views": {
       "grid_default": {
        "col": 4,
        "height": 4,
        "hidden": false,
        "row": 43,
        "width": 4
       },
       "report_default": {
        "hidden": false
       }
      }
     }
    },
    "scrolled": true
   },
   "outputs": [
    {
     "name": "stdout",
     "output_type": "stream",
     "text": [
      "Number of accidents with (at least) one fatality :  1236\n"
     ]
    }
   ],
   "source": [
    "df_fatal = df_collision[(df_collision['NUMBER_OF_PERSONS_KILLED'] > 0)].copy()\n",
    "\n",
    "# store the number of collisions with death in N_fatal\n",
    "N_fatal = len(df_fatal)\n",
    "print('Number of accidents with (at least) one fatality : ', N_fatal)"
   ]
  },
  {
   "cell_type": "markdown",
   "metadata": {
    "extensions": {
     "jupyter_dashboards": {
      "version": 1,
      "views": {
       "grid_default": {},
       "report_default": {
        "hidden": false
       }
      }
     }
    }
   },
   "source": [
    "Let us use this to draw a pie chart of the severity of accidents:"
   ]
  },
  {
   "cell_type": "code",
   "execution_count": 18,
   "metadata": {
    "extensions": {
     "jupyter_dashboards": {
      "version": 1,
      "views": {
       "grid_default": {
        "col": 8,
        "height": 9,
        "hidden": false,
        "row": 43,
        "width": 4
       },
       "report_default": {
        "hidden": false
       }
      }
     }
    },
    "scrolled": false
   },
   "outputs": [
    {
     "data": {
      "image/png": "[encoded data removed]",
      "text/plain": [
       "<Figure size 576x576 with 1 Axes>"
      ]
     },
     "metadata": {},
     "output_type": "display_data"
    }
   ],
   "source": [
    "fig, ax = plt.subplots(figsize = (8,8))\n",
    "\n",
    "\n",
    "labels = 'Fatal', 'Injury', 'No Casualty'\n",
    "fracs = [N_fatal, N_injury, N_collision - N_fatal - N_injury]\n",
    "\n",
    "ax.pie(fracs,  labels=labels, autopct='%1.1f%%',pctdistance= 0.9, \n",
    "        colors=['#4D4D4D', '#F15854','#5DA5DA' ],textprops = {'fontsize' : 15});\n",
    "\n",
    "plt.text(-1.2,1,'Accidents',fontsize = 20, ha = 'center', weight = 'bold');\n",
    "fig.savefig('figures/severity.jpg', transparent=True, bbox_inches='tight')"
   ]
  },
  {
   "cell_type": "markdown",
   "metadata": {
    "extensions": {
     "jupyter_dashboards": {
      "version": 1,
      "views": {
       "grid_default": {
        "col": 4,
        "height": 4,
        "hidden": false,
        "row": 47,
        "width": 4
       },
       "report_default": {
        "hidden": false
       }
      }
     }
    }
   },
   "source": [
    "### Type of Vehicle"
   ]
  },
  {
   "cell_type": "markdown",
   "metadata": {
    "extensions": {
     "jupyter_dashboards": {
      "version": 1,
      "views": {
       "grid_default": {
        "col": 4,
        "height": 4,
        "hidden": false,
        "row": 51,
        "width": 4
       },
       "report_default": {
        "hidden": false
       }
      }
     }
    }
   },
   "source": [
    "What types of vehicle result in more accidents? \n",
    "First let us replace nan values with 'unknown' and bring all strings to lowercase."
   ]
  },
  {
   "cell_type": "code",
   "execution_count": 19,
   "metadata": {
    "extensions": {
     "jupyter_dashboards": {
      "version": 1,
      "views": {
       "grid_default": {
        "hidden": true
       },
       "report_default": {
        "hidden": true
       }
      }
     }
    },
    "scrolled": false
   },
   "outputs": [],
   "source": [
    "df_collision['VEHICLE_TYPE_CODE_1'].fillna('unknown',inplace=True)\n",
    "df_collision['VEHICLE_TYPE_CODE_2'].fillna('unknown',inplace=True)\n",
    "df_collision['VEHICLE_TYPE_CODE_3'].fillna('unknown',inplace=True)\n",
    "df_collision['VEHICLE_TYPE_CODE_4'].fillna('unknown',inplace=True)\n",
    "df_collision['VEHICLE_TYPE_CODE_5'].fillna('unknown',inplace=True)\n",
    "\n",
    "df_collision['VEHICLE_TYPE_CODE_1'] = df_collision['VEHICLE_TYPE_CODE_1'].str.lower()\n",
    "df_collision['VEHICLE_TYPE_CODE_2'] = df_collision['VEHICLE_TYPE_CODE_2'].str.lower()\n",
    "df_collision['VEHICLE_TYPE_CODE_3'] = df_collision['VEHICLE_TYPE_CODE_3'].str.lower()\n",
    "df_collision['VEHICLE_TYPE_CODE_4'] = df_collision['VEHICLE_TYPE_CODE_4'].str.lower()\n",
    "df_collision['VEHICLE_TYPE_CODE_5'] = df_collision['VEHICLE_TYPE_CODE_5'].str.lower()"
   ]
  },
  {
   "cell_type": "markdown",
   "metadata": {
    "extensions": {
     "jupyter_dashboards": {
      "version": 1,
      "views": {
       "grid_default": {
        "col": 8,
        "height": 4,
        "hidden": false,
        "row": 52,
        "width": 4
       },
       "report_default": {
        "hidden": false
       }
      }
     }
    }
   },
   "source": [
    "If we look at the values of each of these features, we see that it is quite messy. Let us look at how many different values there are for each feature:"
   ]
  },
  {
   "cell_type": "code",
   "execution_count": 20,
   "metadata": {
    "extensions": {
     "jupyter_dashboards": {
      "version": 1,
      "views": {
       "grid_default": {
        "col": 4,
        "height": 7,
        "hidden": false,
        "row": 69,
        "width": 4
       },
       "report_default": {
        "hidden": false
       }
      }
     }
    },
    "scrolled": false
   },
   "outputs": [
    {
     "name": "stdout",
     "output_type": "stream",
     "text": [
      "Number of values for  VEHICLE_TYPE_CODE_1  =  148\n",
      "Number of values for  VEHICLE_TYPE_CODE_2  =  159\n",
      "Number of values for  VEHICLE_TYPE_CODE_3  =  45\n",
      "Number of values for  VEHICLE_TYPE_CODE_4  =  35\n",
      "Number of values for  VEHICLE_TYPE_CODE_5  =  22\n"
     ]
    }
   ],
   "source": [
    "for i in range(5):\n",
    "    feat = 'VEHICLE_TYPE_CODE_'+str(i+1)\n",
    "    print(\"Number of values for \",feat, \" = \",len(df_collision[feat].unique()))"
   ]
  },
  {
   "cell_type": "markdown",
   "metadata": {
    "extensions": {
     "jupyter_dashboards": {
      "version": 1,
      "views": {
       "grid_default": {
        "col": 8,
        "height": 4,
        "hidden": false,
        "row": 69,
        "width": 4
       },
       "report_default": {
        "hidden": false
       }
      }
     }
    }
   },
   "source": [
    "For each of these features let us look at the most common values"
   ]
  },
  {
   "cell_type": "code",
   "execution_count": 21,
   "metadata": {
    "extensions": {
     "jupyter_dashboards": {
      "version": 1,
      "views": {
       "grid_default": {
        "col": 0,
        "height": 97,
        "hidden": false,
        "row": 119,
        "width": 4
       },
       "report_default": {
        "hidden": false
       }
      }
     }
    },
    "scrolled": false
   },
   "outputs": [
    {
     "name": "stdout",
     "output_type": "stream",
     "text": [
      "\n",
      "VEHICLE_TYPE_CODE_1\n",
      "passenger vehicle                 621711\n",
      "sport utility / station wagon     265249\n",
      "taxi                               42283\n",
      "unknown                            25708\n",
      "van                                23212\n",
      "other                              21250\n",
      "pick-up truck                      19280\n",
      "small com veh(4 tires)             12906\n",
      "large com veh(6 or more tires)     12870\n",
      "bus                                12369\n",
      "dtype: int64\n",
      "\n",
      "VEHICLE_TYPE_CODE_2\n",
      "passenger vehicle                 467366\n",
      "unknown                           239127\n",
      "sport utility / station wagon     201180\n",
      "taxi                               35111\n",
      "other                              23219\n",
      "bicycle                            23167\n",
      "van                                21390\n",
      "pick-up truck                      18002\n",
      "small com veh(4 tires)             14281\n",
      "large com veh(6 or more tires)     12399\n",
      "bus                                10219\n",
      "dtype: int64\n",
      "\n",
      "VEHICLE_TYPE_CODE_3\n",
      "unknown                          986810\n",
      "passenger vehicle                 57672\n",
      "sport utility / station wagon     29771\n",
      "dtype: int64\n",
      "\n",
      "VEHICLE_TYPE_CODE_4\n",
      "unknown                          1042172\n",
      "passenger vehicle                  23474\n",
      "sport utility / station wagon      13663\n",
      "dtype: int64\n",
      "\n",
      "VEHICLE_TYPE_CODE_5\n",
      "unknown    1075497\n",
      "dtype: int64\n"
     ]
    }
   ],
   "source": [
    "values_lst = []\n",
    "\n",
    "for i in range(5):\n",
    "    feat = 'VEHICLE_TYPE_CODE_'+str(i+1)\n",
    "    values = df_collision.groupby(feat).size().sort_values(ascending = False)\n",
    "    \n",
    "    values = values[values > 10000]\n",
    "    values_lst.append(str(values))\n",
    "    print(\"\")\n",
    "    print(values)\n",
    "                      "
   ]
  },
  {
   "cell_type": "markdown",
   "metadata": {
    "extensions": {
     "jupyter_dashboards": {
      "version": 1,
      "views": {
       "grid_default": {
        "col": 0,
        "height": 10,
        "hidden": false,
        "row": 216,
        "width": 12
       },
       "report_default": {
        "hidden": false
       }
      }
     }
    }
   },
   "source": [
    "Clearly, we can group all these into categories:\n",
    "* passenger vehicle\n",
    "* trucks\n",
    "* taxis\n",
    "* motorcycle\n",
    "* bus\n",
    "    \n",
    "Of course, there are also a lot of SUVs type vehicle. However, SUVs are also passenger vehicles, so it might be that some police officer will put SUVs in the 'passenger vehicle' while others will put them in the SUV category. Given that it is not clear how this vehicle code is collected, it is probably safer to group SUV and passenger vehicle in the same category"
   ]
  },
  {
   "cell_type": "code",
   "execution_count": 22,
   "metadata": {
    "extensions": {
     "jupyter_dashboards": {
      "version": 1,
      "views": {
       "grid_default": {
        "col": 8,
        "height": 4,
        "hidden": false,
        "row": 73,
        "width": 4
       },
       "report_default": {
        "hidden": false
       }
      }
     }
    },
    "scrolled": false
   },
   "outputs": [
    {
     "name": "stdout",
     "output_type": "stream",
     "text": [
      "Number of distinct values: 216\n"
     ]
    }
   ],
   "source": [
    "v1 = set(df_collision['VEHICLE_TYPE_CODE_1'])\n",
    "v2 = set(df_collision['VEHICLE_TYPE_CODE_2'])\n",
    "v3 = set(df_collision['VEHICLE_TYPE_CODE_3'])\n",
    "v4 = set(df_collision['VEHICLE_TYPE_CODE_4'])\n",
    "v5 = set(df_collision['VEHICLE_TYPE_CODE_5'])\n",
    "\n",
    "print(\"Number of distinct values:\", len(v1|v2|v3|v4|v5))\n",
    "babidi = list(v1|v2|v3|v4|v5)"
   ]
  },
  {
   "cell_type": "markdown",
   "metadata": {
    "extensions": {
     "jupyter_dashboards": {
      "version": 1,
      "views": {
       "grid_default": {
        "col": 4,
        "height": 4,
        "hidden": false,
        "row": 76,
        "width": 4
       },
       "report_default": {
        "hidden": false
       }
      }
     }
    }
   },
   "source": [
    "#### Clean Up\n",
    "\n",
    "<b> Bicycle </b>"
   ]
  },
  {
   "cell_type": "code",
   "execution_count": 23,
   "metadata": {
    "extensions": {
     "jupyter_dashboards": {
      "version": 1,
      "views": {
       "grid_default": {
        "hidden": true
       },
       "report_default": {
        "hidden": true
       }
      }
     }
    },
    "scrolled": true
   },
   "outputs": [],
   "source": [
    "pat = r'(bike)|(bicycle)|(nyc b)|(pedic)|bik|eb|elect' \n",
    "replacement = 'Bike'\n",
    "for i in range(5):\n",
    "    feat = 'VEHICLE_TYPE_CODE_'+str(i+1)\n",
    "    df_collision[feat] = df_collision[feat].apply(lambda x: replacement if re.match(pat,x) else x)"
   ]
  },
  {
   "cell_type": "markdown",
   "metadata": {
    "extensions": {
     "jupyter_dashboards": {
      "version": 1,
      "views": {
       "grid_default": {
        "col": 8,
        "height": 4,
        "hidden": false,
        "row": 77,
        "width": 4
       },
       "report_default": {
        "hidden": false
       }
      }
     }
    }
   },
   "source": [
    "<b> Truck </b>"
   ]
  },
  {
   "cell_type": "code",
   "execution_count": 24,
   "metadata": {
    "extensions": {
     "jupyter_dashboards": {
      "version": 1,
      "views": {
       "grid_default": {
        "hidden": true
       },
       "report_default": {
        "hidden": true
       }
      }
     }
    },
    "scrolled": true
   },
   "outputs": [],
   "source": [
    "pat =(r\"(box)|(cemen)|(cm)|(co)|(cargo)|(carr)|(delv)|(deliv)|(dump)|(elect)|(fire)|(freig)|(garba)|(ice)|(large)|\"\n",
    "        \"(liver)|(p[i]*[c]*k)|(ref)|(tk)|(tow)|(tr)|(tt)|(tank)|(tru)|(trac)|(trail)|(trans)|(trl)|(semi)|(ups t)\")\n",
    "replacement = 'Truck'\n",
    "for i in range(5):\n",
    "    feat = 'VEHICLE_TYPE_CODE_'+str(i+1)\n",
    "    df_collision[feat] = df_collision[feat].apply(lambda x: replacement if re.match(pat,x) else x)"
   ]
  },
  {
   "cell_type": "markdown",
   "metadata": {
    "extensions": {
     "jupyter_dashboards": {
      "version": 1,
      "views": {
       "grid_default": {
        "col": 4,
        "height": 4,
        "hidden": false,
        "row": 80,
        "width": 4
       },
       "report_default": {
        "hidden": false
       }
      }
     }
    }
   },
   "source": [
    "<b> Bus </b>"
   ]
  },
  {
   "cell_type": "code",
   "execution_count": 25,
   "metadata": {
    "extensions": {
     "jupyter_dashboards": {
      "version": 1,
      "views": {
       "grid_default": {
        "hidden": true
       },
       "report_default": {
        "hidden": true
       }
      }
     }
    },
    "scrolled": true
   },
   "outputs": [],
   "source": [
    "pat = r'(schoo)|(bu)|(flat)|(fb)|(mta b)|(rv)|(omni)'# probably flat and fb refers to a specific type of bus (flat bus)\n",
    "replacement = 'Bus'\n",
    "for i in range(5):\n",
    "    feat = 'VEHICLE_TYPE_CODE_'+str(i+1)\n",
    "    df_collision[feat] = df_collision[feat].apply(lambda x: replacement if re.match(pat,x) else x)"
   ]
  },
  {
   "cell_type": "markdown",
   "metadata": {
    "extensions": {
     "jupyter_dashboards": {
      "version": 1,
      "views": {
       "grid_default": {
        "col": 8,
        "height": 4,
        "hidden": false,
        "row": 81,
        "width": 4
       },
       "report_default": {
        "hidden": false
       }
      }
     }
    }
   },
   "source": [
    "<b> Motorcycle </b>"
   ]
  },
  {
   "cell_type": "code",
   "execution_count": 26,
   "metadata": {
    "extensions": {
     "jupyter_dashboards": {
      "version": 1,
      "views": {
       "grid_default": {
        "hidden": true
       },
       "report_default": {
        "hidden": true
       }
      }
     }
    },
    "scrolled": true
   },
   "outputs": [],
   "source": [
    "pat = r'(mb)|(moped)|(motor)|(scoot)'\n",
    "replacement = 'Motorcycle'\n",
    "for i in range(5):\n",
    "    feat = 'VEHICLE_TYPE_CODE_'+str(i+1)\n",
    "    df_collision[feat] = df_collision[feat].apply(lambda x: replacement if re.match(pat,x) else x)"
   ]
  },
  {
   "cell_type": "markdown",
   "metadata": {
    "extensions": {
     "jupyter_dashboards": {
      "version": 1,
      "views": {
       "grid_default": {
        "col": 8,
        "height": 4,
        "hidden": false,
        "row": 85,
        "width": 4
       },
       "report_default": {
        "hidden": false
       }
      }
     }
    }
   },
   "source": [
    "<b> Car </b>"
   ]
  },
  {
   "cell_type": "code",
   "execution_count": 27,
   "metadata": {
    "extensions": {
     "jupyter_dashboards": {
      "version": 1,
      "views": {
       "grid_default": {
        "hidden": true
       },
       "report_default": {
        "hidden": true
       }
      }
     }
    },
    "scrolled": true
   },
   "outputs": [],
   "source": [
    "pat = r'(pas)|(p/)|(sedan)|(renta)|(small)|(sub)|(station)|(sport)|(suv)|(util)|(wagon)'\n",
    "replacement = 'Passenger Vehicle'\n",
    "for i in range(5):\n",
    "    feat = 'VEHICLE_TYPE_CODE_'+str(i+1)\n",
    "    df_collision[feat] = df_collision[feat].apply(lambda x: replacement if re.match(pat,x) else x)"
   ]
  },
  {
   "cell_type": "markdown",
   "metadata": {
    "extensions": {
     "jupyter_dashboards": {
      "version": 1,
      "views": {
       "grid_default": {
        "col": 4,
        "height": 4,
        "hidden": false,
        "row": 88,
        "width": 4
       },
       "report_default": {
        "hidden": false
       }
      }
     }
    }
   },
   "source": [
    "#### Pie Chart"
   ]
  },
  {
   "cell_type": "code",
   "execution_count": 28,
   "metadata": {
    "extensions": {
     "jupyter_dashboards": {
      "version": 1,
      "views": {
       "grid_default": {
        "col": 8,
        "height": 6,
        "hidden": false,
        "row": 89,
        "width": 4
       },
       "report_default": {
        "hidden": false
       }
      }
     }
    },
    "scrolled": true
   },
   "outputs": [
    {
     "name": "stdout",
     "output_type": "stream",
     "text": [
      "Number of Bike =  30122\n",
      "Number of Truck =  88152\n",
      "Number of Motorcycle =  12145\n",
      "Number of Passenger Vehicle =  1716013\n",
      "Number of Bus =  25012\n",
      "Number of taxi =  82234\n",
      "Number of Others 98268\n"
     ]
    }
   ],
   "source": [
    "vehicles = ['Bike', 'Truck', 'Motorcycle',  'Passenger Vehicle', 'Bus','taxi']\n",
    "N_vehicles = []\n",
    "\n",
    "\n",
    "for v in vehicles:\n",
    "    N = 0\n",
    "    for i in range(5):\n",
    "        feat = 'VEHICLE_TYPE_CODE_'+str(i+1)\n",
    "        N += (df_collision[feat] == v).sum()\n",
    "    N_vehicles.append(N)\n",
    "    \n",
    "    print('Number of '+v+' = ', N)\n",
    "\n",
    "N = 0\n",
    "for i in range(5):\n",
    "    feat = 'VEHICLE_TYPE_CODE_'+str(i+1)\n",
    "    N += (df_collision[feat].apply(lambda x: True if x not in (vehicles + ['unknown']) else False)).sum()\n",
    "vehicles.append('other')\n",
    "N_vehicles.append(N)\n",
    "print(\"Number of Others\", N)"
   ]
  },
  {
   "cell_type": "code",
   "execution_count": 29,
   "metadata": {
    "extensions": {
     "jupyter_dashboards": {
      "version": 1,
      "views": {
       "grid_default": {
        "col": 4,
        "height": 9,
        "hidden": false,
        "row": 92,
        "width": 4
       },
       "report_default": {
        "hidden": false
       }
      }
     }
    },
    "scrolled": true
   },
   "outputs": [
    {
     "data": {
      "image/png": "[encoded data removed]",
      "text/plain": [
       "<Figure size 720x720 with 1 Axes>"
      ]
     },
     "metadata": {},
     "output_type": "display_data"
    }
   ],
   "source": [
    "fig1, ax1 = plt.subplots(figsize = (10,10))\n",
    "\n",
    "explode = np.zeros(len(vehicles))\n",
    "ax1.pie(N_vehicles,labels=vehicles, autopct='%1.0f%%', explode = explode ,\n",
    "        colors = ['#FAA43A','#F15854', '#B276B2','#60BD68', '#DECF3F', '#5DA5DA','#F17CB0'],\n",
    "        startangle=90, textprops = {'fontsize': 15})\n",
    "\n",
    "#draw circle\n",
    "centre_circle = plt.Circle((0,0),0.70,fc='white')\n",
    "fig = plt.gcf()\n",
    "fig.gca().add_artist(centre_circle)\n",
    "\n",
    "# Equal aspect ratio ensures that pie is drawn as a circle\n",
    "#ax1.axis('equal')  \n",
    "#plt.tight_layout()\n",
    "plt.text(-1.2,1,'Types of vehicle\\n involved',fontsize = 20, ha = 'center', weight = 'bold');\n",
    "#plt.title('Type of vehicles involved',fontsize = 20, ha = 'center',weight = 'bold');\n",
    "fig.savefig('figures/vehicles.png', transparent=True, bbox_inches='tight')"
   ]
  },
  {
   "cell_type": "markdown",
   "metadata": {
    "extensions": {
     "jupyter_dashboards": {
      "version": 1,
      "views": {
       "grid_default": {
        "col": 8,
        "height": 4,
        "hidden": false,
        "row": 95,
        "width": 4
       },
       "report_default": {
        "hidden": false
       }
      }
     }
    }
   },
   "source": [
    "### Who gets injured? Who gets killed?\n",
    "Is it a motorist, cyclist or pedsestrian? Let's find out"
   ]
  },
  {
   "cell_type": "code",
   "execution_count": 30,
   "metadata": {
    "extensions": {
     "jupyter_dashboards": {
      "version": 1,
      "views": {
       "grid_default": {
        "hidden": true
       },
       "report_default": {
        "hidden": true
       }
      }
     }
    },
    "scrolled": true
   },
   "outputs": [],
   "source": [
    "# count number of motorist, cyclist and pedestrian injured and killer\n",
    "mot_injured = df_collision['NUMBER_OF_MOTORIST_INJURED'].sum()\n",
    "cyc_injured = df_collision['NUMBER_OF_CYCLIST_INJURED'].sum()\n",
    "ped_injured = df_collision['NUMBER_OF_PEDESTRIANS_INJURED'].sum()\n",
    "\n",
    "mot_killed = df_collision['NUMBER_OF_MOTORIST_KILLED'].sum()\n",
    "cyc_killed = df_collision['NUMBER_OF_CYCLIST_KILLED'].sum()\n",
    "ped_killed = df_collision['NUMBER_OF_PEDESTRIANS_KILLED'].sum()"
   ]
  },
  {
   "cell_type": "markdown",
   "metadata": {
    "extensions": {
     "jupyter_dashboards": {
      "version": 1,
      "views": {
       "grid_default": {
        "col": 8,
        "height": 4,
        "hidden": false,
        "row": 99,
        "width": 4
       },
       "report_default": {
        "hidden": false
       }
      }
     }
    }
   },
   "source": [
    "#### Injured"
   ]
  },
  {
   "cell_type": "code",
   "execution_count": 31,
   "metadata": {
    "extensions": {
     "jupyter_dashboards": {
      "version": 1,
      "views": {
       "grid_default": {
        "col": 4,
        "height": 9,
        "hidden": false,
        "row": 101,
        "width": 4
       },
       "report_default": {
        "hidden": false
       }
      }
     }
    },
    "scrolled": true
   },
   "outputs": [
    {
     "data": {
      "image/png": "[encoded data removed]",
      "text/plain": [
       "<Figure size 576x576 with 1 Axes>"
      ]
     },
     "metadata": {},
     "output_type": "display_data"
    }
   ],
   "source": [
    "fig1, ax1 = plt.subplots(figsize = (8,8))\n",
    "\n",
    "who_injured = [ped_injured,cyc_injured,mot_injured]\n",
    "labels = ['Pedestrian', 'Cyclist', 'Motorist']\n",
    "\n",
    "\n",
    "ax1.pie(who_injured,labels=labels, autopct='%1.0f%%',\n",
    "        colors = ['#5DA5DA','#F15854','#60BD68'],\n",
    "        startangle=90, textprops = {'fontsize': 15})\n",
    "\n",
    "#draw circle\n",
    "centre_circle = plt.Circle((0,0),0.70,fc='white')\n",
    "fig = plt.gcf()\n",
    "fig.gca().add_artist(centre_circle)\n",
    "\n",
    "# add text\n",
    "plt.text(-1.2,1.1,'Who Gets Injured?',fontsize = 20, ha = 'center', weight = 'bold');\n",
    "fig.savefig('figures/who_injured.png', transparent=True, bbox_inches='tight')"
   ]
  },
  {
   "cell_type": "markdown",
   "metadata": {
    "extensions": {
     "jupyter_dashboards": {
      "version": 1,
      "views": {
       "grid_default": {
        "col": 8,
        "height": 4,
        "hidden": false,
        "row": 103,
        "width": 4
       },
       "report_default": {
        "hidden": false
       }
      }
     }
    }
   },
   "source": [
    "#### Killed"
   ]
  },
  {
   "cell_type": "code",
   "execution_count": 32,
   "metadata": {
    "extensions": {
     "jupyter_dashboards": {
      "version": 1,
      "views": {
       "grid_default": {
        "col": 4,
        "height": 9,
        "hidden": false,
        "row": 119,
        "width": 4
       },
       "report_default": {
        "hidden": false
       }
      }
     }
    },
    "scrolled": true
   },
   "outputs": [
    {
     "data": {
      "image/png": "[encoded data removed]",
      "text/plain": [
       "<Figure size 720x720 with 1 Axes>"
      ]
     },
     "metadata": {},
     "output_type": "display_data"
    }
   ],
   "source": [
    "fig1, ax1 = plt.subplots(figsize = (10,10))\n",
    "\n",
    "who_killed = [ped_killed,cyc_killed,mot_killed]\n",
    "labels = ['Pedestrian', 'Cyclist', 'Motorist']\n",
    "ax1.pie(who_killed,labels=labels, autopct='%1.0f%%',\n",
    "        colors = ['#5DA5DA','#F15854','#60BD68'],\n",
    "        startangle=90, textprops = {'fontsize': 15})\n",
    "\n",
    "#draw circle\n",
    "centre_circle = plt.Circle((0,0),0.70,fc='white')\n",
    "fig = plt.gcf()\n",
    "fig.gca().add_artist(centre_circle)\n",
    "\n",
    "# add text\n",
    "plt.text(-1.2,1.1,'Who Gets Killed?',fontsize = 20, ha = 'center', weight = 'bold');\n",
    "#plt.title('Type of vehicles involved',fontsize = 20, ha = 'center',weight = 'bold');\n",
    "fig.savefig('figures/who_killed.png', transparent=True, bbox_inches='tight')"
   ]
  },
  {
   "cell_type": "markdown",
   "metadata": {
    "extensions": {
     "jupyter_dashboards": {
      "version": 1,
      "views": {
       "grid_default": {
        "col": 8,
        "height": 4,
        "hidden": false,
        "row": 127,
        "width": 4
       },
       "report_default": {
        "hidden": false
       }
      }
     }
    }
   },
   "source": [
    "## Where ?"
   ]
  },
  {
   "cell_type": "markdown",
   "metadata": {
    "extensions": {
     "jupyter_dashboards": {
      "version": 1,
      "views": {
       "grid_default": {
        "col": 0,
        "height": 4,
        "hidden": false,
        "row": 226,
        "width": 12
       },
       "report_default": {
        "hidden": false
       }
      }
     }
    }
   },
   "source": [
    "Let us now map accidents in NYC. We will also plot the traffic as evaluated in the years 2012-2013"
   ]
  },
  {
   "cell_type": "markdown",
   "metadata": {
    "extensions": {
     "jupyter_dashboards": {
      "version": 1,
      "views": {
       "grid_default": {
        "col": 4,
        "height": 4,
        "hidden": false,
        "row": 128,
        "width": 4
       },
       "report_default": {
        "hidden": false
       }
      }
     }
    }
   },
   "source": [
    "### Mapping Accidents in NYC"
   ]
  },
  {
   "cell_type": "code",
   "execution_count": 33,
   "metadata": {
    "extensions": {
     "jupyter_dashboards": {
      "version": 1,
      "views": {
       "grid_default": {
        "hidden": true
       },
       "report_default": {
        "hidden": true
       }
      }
     }
    },
    "scrolled": true
   },
   "outputs": [],
   "source": [
    "# border of the map\n",
    "lng_min, lng_max = -74.3 , -73.65\n",
    "lat_min, lat_max = 40.48 , 40.92"
   ]
  },
  {
   "cell_type": "markdown",
   "metadata": {
    "extensions": {
     "jupyter_dashboards": {
      "version": 1,
      "views": {
       "grid_default": {
        "col": 0,
        "height": 5,
        "hidden": false,
        "row": 230,
        "width": 12
       },
       "report_default": {
        "hidden": false
       }
      }
     }
    }
   },
   "source": [
    "#### Estimating Traffic Volume\n",
    "\n",
    "The problem with the volume traffic device is that they are unequally distributed: there are many more in Manhattan than in other boroughs of NYC. Unfortunately, this is the only measure of traffic that I have. To estimate the (average daily) traffic in a given region, I will use a simple KNN regressor."
   ]
  },
  {
   "cell_type": "code",
   "execution_count": 34,
   "metadata": {
    "extensions": {
     "jupyter_dashboards": {
      "version": 1,
      "views": {
       "grid_default": {
        "hidden": true
       },
       "report_default": {
        "hidden": true
       }
      }
     }
    },
    "scrolled": false
   },
   "outputs": [],
   "source": [
    "from sklearn import neighbors\n",
    "\n",
    "X = df_DAVC[['LONGITUDE','LATITUDE']]\n",
    "y = df_DAVC['TOTAL_DAY']\n",
    "\n",
    "# the traffic is measured using the 3 closer counter devices and the result is weighted by distance\n",
    "clf = neighbors.KNeighborsRegressor(n_neighbors = 5, weights='distance')\n",
    "clf.fit(X, y)\n",
    "\n",
    "# create a grid of points on the map and predict the outcome\n",
    "lngs, lats = np.meshgrid(np.arange(lng_min, lng_max, 0.0005),\n",
    "                     np.arange(lat_min, lat_max, 0.0005))\n",
    "traffic_map = clf.predict(np.c_[lngs.ravel(), lats.ravel()])\n",
    "traffic_map = traffic_map.reshape(lngs.shape)"
   ]
  },
  {
   "cell_type": "markdown",
   "metadata": {
    "extensions": {
     "jupyter_dashboards": {
      "version": 1,
      "views": {
       "grid_default": {
        "col": 8,
        "height": 4,
        "hidden": false,
        "row": 131,
        "width": 4
       },
       "report_default": {
        "hidden": false
       }
      }
     }
    }
   },
   "source": [
    "Given that the traffic data are mainly in 2013, let us consider traffic accidents in the year 2013 only:"
   ]
  },
  {
   "cell_type": "code",
   "execution_count": 35,
   "metadata": {
    "extensions": {
     "jupyter_dashboards": {
      "version": 1,
      "views": {
       "grid_default": {
        "hidden": true
       },
       "report_default": {
        "hidden": true
       }
      }
     }
    },
    "scrolled": true
   },
   "outputs": [],
   "source": [
    "df_collision_13 = df_collision[df_collision['DATE'].apply(lambda x: x.year == 2013)]"
   ]
  },
  {
   "cell_type": "markdown",
   "metadata": {
    "extensions": {
     "jupyter_dashboards": {
      "version": 1,
      "views": {
       "grid_default": {
        "col": 4,
        "height": 4,
        "hidden": false,
        "row": 132,
        "width": 4
       },
       "report_default": {
        "hidden": false
       }
      }
     }
    }
   },
   "source": [
    "#### Map"
   ]
  },
  {
   "cell_type": "code",
   "execution_count": null,
   "metadata": {
    "extensions": {
     "jupyter_dashboards": {
      "version": 1,
      "views": {
       "grid_default": {
        "col": 8,
        "height": 12,
        "hidden": false,
        "row": 135,
        "width": 4
       },
       "report_default": {
        "hidden": false
       }
      }
     }
    },
    "scrolled": false
   },
   "outputs": [],
   "source": [
    "fig, ax  = plt.subplots(figsize=(22, 22))\n",
    "\n",
    "## CREATE A MAP OF NYC\n",
    "#######################\n",
    "\n",
    "# this is to make sure that the map is computed just once (since it is time consuming)\n",
    "try:\n",
    "    m_nyc\n",
    "except NameError:\n",
    "    m_nyc = Basemap(projection='merc',llcrnrlat=lat_min,urcrnrlat=lat_max,\n",
    "                    llcrnrlon= lng_min,urcrnrlon=lng_max,resolution='f')\n",
    "\n",
    "# Set axis limit\n",
    "x_min, y_min = m_nyc(lng_min,lat_min) \n",
    "x_max, y_max = m_nyc(lng_max,lat_max)\n",
    "\n",
    "ax.set_xlim(x_min, x_max)\n",
    "ax.set_ylim(y_min, y_max)\n",
    "\n",
    "# Draw the coastline and fill the map with color (blue)\n",
    "m_nyc.drawcoastlines()\n",
    "m_nyc.drawrivers(color = '#DBDBDB')\n",
    "m_nyc.drawmapboundary(fill_color = '#DBDBDB')\n",
    "\n",
    "## CREATE A PATCH OF CONTINENTS\n",
    "################################\n",
    "\n",
    "map_edges = np.array([[x_min,y_min],[x_max,y_min],[x_max,y_max],[x_min,y_max]])\n",
    "polys = [p.boundary for p in m_nyc.landpolygons]\n",
    "\n",
    "polys = [map_edges]+polys[:] # polygons of the map + edges\n",
    "\n",
    "## creating the patch from polys (see https://matplotlib.org/users/path_tutorial.html)\n",
    "codes = [\n",
    "    [patches.Path.MOVETO] + [patches.Path.LINETO for p in p[1:]]\n",
    "        for p in polys\n",
    "]\n",
    "\n",
    "polys_lin = [v for p in polys for v in p]\n",
    "codes_lin = [c for cs in codes for c in cs]\n",
    "\n",
    "path = patches.Path(polys_lin, codes_lin)\n",
    "patch_ocean = patches.PathPatch(path,facecolor='#71BEE5', lw=1)\n",
    "\n",
    "# add ocean patch\n",
    "ax.add_patch(patch_ocean)\n",
    "\n",
    "\n",
    "## CREATE A PATCH OF NYC\n",
    "########################\n",
    "\n",
    "# get NYC boundary polygon\n",
    "from NYC_boundaries import *\n",
    "NYC_boundary = get_boundary() \n",
    "\n",
    "x_bm, y_bm = m_nyc(NYC_boundary[:,0],NYC_boundary[:,1])\n",
    "NYC_boundary_bm = np.vstack((x_bm,y_bm)).transpose()\n",
    "patch_NYC = patches.Polygon(NYC_boundary_bm, facecolor='none',edgecolor = 'black',lw=1)\n",
    "ax.add_patch(patch_NYC)\n",
    "\n",
    "## TRAFFIC MAP\n",
    "##############\n",
    "lngs_bm, lats_bm = m_nyc(lngs,lats)\n",
    "traffic = ax.pcolormesh(lngs_bm, lats_bm, traffic_map, vmax = 30000, cmap='YlGnBu',clip_path=patch_NYC,clip_on=True)\n",
    "\n",
    "\n",
    "## COLLISION MAP\n",
    "################\n",
    "x_bm, y_bm = m_nyc(np.array(df_collision_13['LONGITUDE']),np.array(df_collision_13['LATITUDE']))\n",
    "ax.scatter(x_bm,y_bm, \n",
    "           c = '#F15854', alpha = 0.05, marker = ',', s = 3, \n",
    "           label = \"Motor Vehicle Collision\",clip_path=patch_NYC,clip_on=True)\n",
    "\n",
    "## TRAFFIC COUNT DEVICE\n",
    "########################\n",
    "\n",
    "x_bm, y_bm = m_nyc(np.array(df_DAVC['LONGITUDE']),np.array(df_DAVC['LATITUDE']))\n",
    "ax.scatter(x_bm , y_bm , \n",
    "           c = 'black', \n",
    "           alpha = 1, marker = 'o', s = 30, \n",
    "           label = \"Traffic Count Device\",clip_path=patch_NYC,clip_on=True)\n",
    "\n",
    "## CLEAN UP PLOT\n",
    "################\n",
    "\n",
    "# Remove axes\n",
    "ax.spines['right'].set_visible(False)\n",
    "ax.spines['left'].set_visible(False)\n",
    "ax.spines['top'].set_visible(False)\n",
    "ax.spines['bottom'].set_visible(False)\n",
    "\n",
    "ax.set_xticks([])\n",
    "ax.set_yticks([])\n",
    "\n",
    "# legend\n",
    "lgd = plt.legend(fontsize = 25, framealpha=0,loc=\"upper left\",bbox_to_anchor=(0.014, 0.85))\n",
    "for l in lgd.legendHandles:\n",
    "    l._sizes = [500] # change size of the marker in legend\n",
    "    l.set_alpha(1) # change alpha of the marker in legend\n",
    "\n",
    "lgd.get_frame().set_linewidth(0.0)\n",
    "\n",
    "# traffic count color bar\n",
    "cbar = fig.colorbar(traffic, orientation = 'vertical', shrink = 0.5, pad = -1.05)\n",
    "cbar.ax.yaxis.set_ticks_position('right')\n",
    "cbar.ax.set_ylabel('\\nAverage Daily Traffic Count',fontsize = 25,rotation = 90)\n",
    "cbar.ax.yaxis.set_label_coords(-2,0.6)\n",
    "cbar.ax.tick_params(labelsize=15) \n",
    "\n",
    "\n",
    "# title\n",
    "dx = x_max-x_min\n",
    "dy = y_max-y_min\n",
    "ax.text(x_min+0.25*dx,y_min+0.90*dy,'Motor Vehicle Collisions\\n in NYC (2013)', fontsize = 35, ha = \"center\", weight = 'bold');\n",
    "fig.savefig('figures/NYC_MVC_map.png', transparent=False, bbox_inches='tight')"
   ]
  },
  {
   "cell_type": "markdown",
   "metadata": {
    "extensions": {
     "jupyter_dashboards": {
      "version": 1,
      "views": {
       "grid_default": {
        "col": 4,
        "height": 4,
        "hidden": false,
        "row": 136,
        "width": 4
       },
       "report_default": {
        "hidden": false
       }
      }
     }
    }
   },
   "source": [
    "### Accidents per Borough\n",
    "Let us look at accidents per borough and compare it with the traffic"
   ]
  },
  {
   "cell_type": "code",
   "execution_count": null,
   "metadata": {
    "extensions": {
     "jupyter_dashboards": {
      "version": 1,
      "views": {
       "grid_default": {
        "hidden": true
       },
       "report_default": {
        "hidden": true
       }
      }
     }
    },
    "scrolled": true
   },
   "outputs": [],
   "source": [
    "# proportion of accidents per borough\n",
    "prop_borough = df_collision.groupby('BOROUGH').size()/(~df_collision['BOROUGH'].isnull()).sum()\n",
    "prop_injury_borough = df_injury.groupby('BOROUGH').size()/N_injury\n",
    "prop_fatal_borough = df_fatal.groupby('BOROUGH').size()/N_fatal\n",
    "\n",
    "# organise index by alphabetical order\n",
    "prop_borough.sort_index(inplace=True)\n",
    "prop_injury_borough.sort_index(inplace=True)\n",
    "prop_fatal_borough.sort_index(inplace=True)"
   ]
  },
  {
   "cell_type": "code",
   "execution_count": null,
   "metadata": {
    "extensions": {
     "jupyter_dashboards": {
      "version": 1,
      "views": {
       "grid_default": {
        "col": 4,
        "height": 8,
        "hidden": false,
        "row": 140,
        "width": 4
       },
       "report_default": {
        "hidden": false
       }
      }
     }
    },
    "scrolled": true
   },
   "outputs": [],
   "source": [
    "# proportion of traffic per borough\n",
    "traffic_borough = df_DAVC.groupby('BOROUGH').agg({'TOTAL_DAY':np.mean})\n",
    "traffic_borough = traffic_borough/traffic_borough.sum()\n",
    "\n",
    "# organise index by alphabetical order\n",
    "traffic_borough.sort_index(inplace=True)\n",
    "traffic_borough"
   ]
  },
  {
   "cell_type": "markdown",
   "metadata": {
    "extensions": {
     "jupyter_dashboards": {
      "version": 1,
      "views": {
       "grid_default": {
        "col": 8,
        "height": 4,
        "hidden": false,
        "row": 147,
        "width": 4
       },
       "report_default": {
        "hidden": false
       }
      }
     }
    }
   },
   "source": [
    "Let us also compute the standard deviation on the estimated proportion (assuming a multinomial distribution)\n"
   ]
  },
  {
   "cell_type": "code",
   "execution_count": null,
   "metadata": {
    "extensions": {
     "jupyter_dashboards": {
      "version": 1,
      "views": {
       "grid_default": {
        "hidden": true
       },
       "report_default": {
        "hidden": true
       }
      }
     }
    },
    "scrolled": true
   },
   "outputs": [],
   "source": [
    "std_prop_borough = prop_borough.apply(lambda x: (x*(1-x)/N_collision)**0.5)\n",
    "std_prop_injury_borough = prop_injury_borough.apply(lambda x: (x*(1-x)/N_injury)**0.5)\n",
    "std_prop_fatal_borough = prop_fatal_borough.apply(lambda x: (x*(1-x)/N_fatal)**0.5)"
   ]
  },
  {
   "cell_type": "markdown",
   "metadata": {
    "extensions": {
     "jupyter_dashboards": {
      "version": 1,
      "views": {
       "grid_default": {},
       "report_default": {
        "hidden": false
       }
      }
     }
    }
   },
   "source": [
    "Finally, let us plot the result:"
   ]
  },
  {
   "cell_type": "code",
   "execution_count": null,
   "metadata": {
    "extensions": {
     "jupyter_dashboards": {
      "version": 1,
      "views": {
       "grid_default": {
        "col": 4,
        "height": 8,
        "hidden": false,
        "row": 148,
        "width": 4
       },
       "report_default": {
        "hidden": false
       }
      }
     }
    },
    "scrolled": false
   },
   "outputs": [],
   "source": [
    "fig = plt.figure(figsize=(11, 7))\n",
    "\n",
    "x_borough = np.arange(1,len(prop_borough.index)+1)\n",
    "\n",
    "# Total\n",
    "plt.bar(x_borough-0.3, height = prop_borough*100, width = 0.3,\n",
    "        label = 'Total',color = 'darkorange', \n",
    "        yerr = std_prop_borough*100, error_kw=dict(ecolor='black', lw=1, capsize=4, capthick=1));\n",
    "\n",
    "# Injured only\n",
    "plt.bar(x_borough, height = prop_injury_borough*100, width = 0.3, \n",
    "         label = 'Injuries',color = 'orange',\n",
    "       yerr = std_prop_injury_borough*100 , error_kw=dict(ecolor='black', lw=1, capsize=4, capthick=1));\n",
    "\n",
    "# At least one fatality\n",
    "plt.bar(x_borough+0.3, height = prop_fatal_borough*100, width = 0.3, \n",
    "        label = 'Fatalities', color = 'navajowhite',\n",
    "       yerr = std_prop_fatal_borough*100, error_kw=dict(ecolor='black', lw=1, capsize=4, capthick=1));\n",
    "\n",
    "# Traffic\n",
    "plt.plot(x_borough, traffic_borough*100, marker = 'o',\n",
    "        label = 'Estimated Traffic (%)', color = 'gray');\n",
    "\n",
    "\n",
    "# graph\n",
    "plt.xlabel('Borough', fontsize = 15)\n",
    "plt.xticks(x_borough,prop_borough.index)\n",
    "plt.xlim(0.4,6)\n",
    "plt.ylim(0,40)\n",
    "plt.legend()\n",
    "\n",
    "plt.title('Proportion of accidents per borough',fontsize = 15);"
   ]
  },
  {
   "cell_type": "markdown",
   "metadata": {
    "extensions": {
     "jupyter_dashboards": {
      "version": 1,
      "views": {
       "grid_default": {},
       "report_default": {
        "hidden": false
       }
      }
     }
    }
   },
   "source": [
    "This result should be taken with a grain of salt for at least two reasons.  \n",
    "\n",
    "1) The first one is that many locations are missing in our dataset, which begs the question: are those missing location equally distributed or do they affect more locations than others? \n",
    "\n",
    "2) The second reason is that our way of estimating traffic count in one particular borough is not very good. In particular, if traffic count are unequally distributed (as they are), a borough with very few traffic count device may look as though there is no traffic and a borough with many traffic count device may look as though there is a huge amount of traffic. "
   ]
  },
  {
   "cell_type": "markdown",
   "metadata": {
    "extensions": {
     "jupyter_dashboards": {
      "version": 1,
      "views": {
       "grid_default": {
        "col": 8,
        "height": 4,
        "hidden": false,
        "row": 151,
        "width": 4
       },
       "report_default": {
        "hidden": false
       }
      }
     }
    }
   },
   "source": [
    "## When ?\n",
    "\n",
    "When do accidents happen? At night or during the day? On which months? On which days?\n",
    "\n",
    "### Hour of the day"
   ]
  },
  {
   "cell_type": "markdown",
   "metadata": {
    "extensions": {
     "jupyter_dashboards": {
      "version": 1,
      "views": {
       "grid_default": {
        "col": 8,
        "height": 4,
        "hidden": false,
        "row": 155,
        "width": 4
       },
       "report_default": {
        "hidden": false
       }
      }
     }
    }
   },
   "source": [
    "Let us extract the hour and count the proportion of accidents for each hour:"
   ]
  },
  {
   "cell_type": "code",
   "execution_count": null,
   "metadata": {
    "extensions": {
     "jupyter_dashboards": {
      "version": 1,
      "views": {
       "grid_default": {
        "hidden": true
       },
       "report_default": {
        "hidden": true
       }
      }
     }
    },
    "scrolled": true
   },
   "outputs": [],
   "source": [
    "df_collision['HOUR'] = df_collision['TIME'].apply(lambda x: x.hour)\n",
    "df_injury['HOUR'] = df_injury['TIME'].apply(lambda x: x.hour)\n",
    "df_fatal['HOUR'] = df_fatal['TIME'].apply(lambda x: x.hour)\n",
    "\n",
    "prop_hour = df_collision.groupby('HOUR').size()/N_collision\n",
    "prop_injury_hour = df_injury.groupby('HOUR').size()/N_injury\n",
    "prop_fatal_hour = df_fatal.groupby('HOUR').size()/N_fatal"
   ]
  },
  {
   "cell_type": "markdown",
   "metadata": {
    "extensions": {
     "jupyter_dashboards": {
      "version": 1,
      "views": {
       "grid_default": {
        "col": 4,
        "height": 4,
        "hidden": false,
        "row": 156,
        "width": 4
       },
       "report_default": {
        "hidden": false
       }
      }
     }
    }
   },
   "source": [
    "Let us also compute the standard deviation on the estimated proportion (assuming a multinomial distribution)"
   ]
  },
  {
   "cell_type": "code",
   "execution_count": null,
   "metadata": {
    "extensions": {
     "jupyter_dashboards": {
      "version": 1,
      "views": {
       "grid_default": {
        "hidden": true
       },
       "report_default": {
        "hidden": true
       }
      }
     }
    },
    "scrolled": true
   },
   "outputs": [],
   "source": [
    "std_prop_hour = prop_hour.apply(lambda x: (x*(1-x)/N_collision)**0.5)\n",
    "std_prop_injury_hour = prop_injury_hour.apply(lambda x: (x*(1-x)/N_injury)**0.5)\n",
    "std_prop_fatal_hour = prop_fatal_hour.apply(lambda x: (x*(1-x)/N_fatal)**0.5)"
   ]
  },
  {
   "cell_type": "markdown",
   "metadata": {
    "extensions": {
     "jupyter_dashboards": {
      "version": 1,
      "views": {
       "grid_default": {
        "col": 8,
        "height": 4,
        "hidden": false,
        "row": 159,
        "width": 4
       },
       "report_default": {
        "hidden": false
       }
      }
     }
    }
   },
   "source": [
    "We then plot these proportions and consider  \n",
    "    (1) the whole data set,   \n",
    "    (2) those with injuries,  \n",
    "    (3) those with fatalities.  \n",
    "The result is also compared with the traffic per hour"
   ]
  },
  {
   "cell_type": "code",
   "execution_count": null,
   "metadata": {
    "extensions": {
     "jupyter_dashboards": {
      "version": 1,
      "views": {
       "grid_default": {
        "col": 4,
        "height": 8,
        "hidden": false,
        "row": 160,
        "width": 4
       },
       "report_default": {
        "hidden": false
       }
      }
     }
    },
    "scrolled": true
   },
   "outputs": [],
   "source": [
    "fig = plt.figure(figsize=(11, 7))\n",
    "\n",
    "\n",
    "x_hours = np.arange(1,25)\n",
    "\n",
    "\n",
    "\n",
    "\n",
    "# Total\n",
    "plt.bar(x_hours-0.3, height = prop_hour*100, width = 0.3,\n",
    "        label = 'Total',color = 'darkorange', \n",
    "        yerr = std_prop_hour*100, error_kw=dict(ecolor='black', lw=1, capsize=4, capthick=1));\n",
    "\n",
    "# Injured only\n",
    "plt.bar(x_hours, height = prop_injury_hour*100, width = 0.3, \n",
    "         label = 'Injuries',color = 'orange',\n",
    "       yerr = std_prop_injury_hour*100 , error_kw=dict(ecolor='black', lw=1, capsize=4, capthick=1));\n",
    "\n",
    "# At least one fatality\n",
    "plt.bar(x_hours+0.3, height = prop_fatal_hour*100, width = 0.3, \n",
    "        label = 'Fatalities', color = 'navajowhite',\n",
    "       yerr = std_prop_fatal_hour*100, error_kw=dict(ecolor='black', lw=1, capsize=4, capthick=1));\n",
    "\n",
    "# Traffic\n",
    "hours = df_traffic.columns[df_traffic.columns.str.match(r'[\\d]+-[\\d]+')]\n",
    "traffic_hours = 100*df_traffic[hours].sum()/df_traffic[hours].sum().sum()\n",
    "plt.plot(x_hours, traffic_hours,'-o',\n",
    "        label = 'Average Traffic in NYC (2012-2013)',color = 'gray');\n",
    "\n",
    "# graph\n",
    "plt.xlabel('hour of the day', fontsize = 15)\n",
    "plt.xticks(np.arange(1,25,1),df_traffic[hours].columns,rotation = 90)\n",
    "plt.xlim(0.4,24.6)\n",
    "plt.ylim(0,8)\n",
    "plt.legend()\n",
    "\n",
    "plt.title('Percentage of accidents per hour of day',fontsize = 15);\n",
    "fig.savefig('figures/time_hour.png', transparent=True, bbox_inches='tight')"
   ]
  },
  {
   "cell_type": "markdown",
   "metadata": {
    "extensions": {
     "jupyter_dashboards": {
      "version": 1,
      "views": {
       "grid_default": {
        "col": 0,
        "height": 4,
        "hidden": false,
        "row": 235,
        "width": 12
       },
       "report_default": {
        "hidden": false
       }
      }
     }
    }
   },
   "source": [
    "First let us notice that the total number of accidents is correlated with traffic (as expected). However the total number of deadly accidents seems uncorrelated with traffic volume. \n",
    "We can be a bit more quantitative and look at the Pearson correlation function (along with the corresponding p-value)"
   ]
  },
  {
   "cell_type": "code",
   "execution_count": null,
   "metadata": {
    "extensions": {
     "jupyter_dashboards": {
      "version": 1,
      "views": {
       "grid_default": {
        "col": 8,
        "height": 10,
        "hidden": false,
        "row": 163,
        "width": 4
       },
       "report_default": {
        "hidden": false
       }
      }
     }
    },
    "scrolled": false
   },
   "outputs": [],
   "source": [
    "from scipy.stats import pearsonr\n",
    "\n",
    "print('----------')\n",
    "print('Traffic and Total Accidents')\n",
    "res = pearsonr(traffic_hours,prop_hour)\n",
    "print('Correlation coefficient = ', res[0])\n",
    "print('p-value = ', res[1])\n",
    "\n",
    "print('----------')\n",
    "print('Traffic and Accidents with Injuries')\n",
    "res = pearsonr(traffic_hours,prop_injury_hour)\n",
    "print('Correlation coefficient', res[0])\n",
    "print('p-value = ', res[1])\n",
    "\n",
    "print('----------')\n",
    "print('Traffic and Fatal Accidents')\n",
    "res = pearsonr(traffic_hours,prop_fatal_hour)\n",
    "print('Correlation coefficient', res[0])\n",
    "print('p-value = ', res[1])\n",
    "\n"
   ]
  },
  {
   "cell_type": "markdown",
   "metadata": {
    "extensions": {
     "jupyter_dashboards": {
      "version": 1,
      "views": {
       "grid_default": {},
       "report_default": {
        "hidden": false
       }
      }
     }
    }
   },
   "source": [
    "Clearly, the number of fatal accidents does not correlate with the amount of traffic (odd!!!)"
   ]
  },
  {
   "cell_type": "markdown",
   "metadata": {
    "extensions": {
     "jupyter_dashboards": {
      "version": 1,
      "views": {
       "grid_default": {
        "col": 4,
        "height": 4,
        "hidden": false,
        "row": 168,
        "width": 4
       },
       "report_default": {
        "hidden": false
       }
      }
     }
    }
   },
   "source": [
    "### Day of the week\n",
    "We then extract the corresponding weekday and count the proportion of accidents for each hour:"
   ]
  },
  {
   "cell_type": "code",
   "execution_count": null,
   "metadata": {
    "extensions": {
     "jupyter_dashboards": {
      "version": 1,
      "views": {
       "grid_default": {
        "hidden": true
       },
       "report_default": {
        "hidden": true
       }
      }
     }
    },
    "scrolled": true
   },
   "outputs": [],
   "source": [
    "df_collision['WEEKDAY'] = df_collision['DATE'].apply(lambda x: x.weekday())\n",
    "df_injury['WEEKDAY'] = df_injury['DATE'].apply(lambda x: x.weekday())\n",
    "df_fatal['WEEKDAY'] = df_fatal['DATE'].apply(lambda x: x.weekday())\n",
    "\n",
    "prop_week = df_collision.groupby('WEEKDAY').size()/N_collision\n",
    "prop_injury_week = df_injury.groupby('WEEKDAY').size()/N_injury\n",
    "prop_fatal_week = df_fatal.groupby('WEEKDAY').size()/N_fatal"
   ]
  },
  {
   "cell_type": "markdown",
   "metadata": {
    "extensions": {
     "jupyter_dashboards": {
      "version": 1,
      "views": {
       "grid_default": {
        "col": 8,
        "height": 4,
        "hidden": false,
        "row": 173,
        "width": 4
       },
       "report_default": {
        "hidden": false
       }
      }
     }
    }
   },
   "source": [
    "Let us also compute the standard deviation on the estimated proportion (assuming a multinomial distribution)"
   ]
  },
  {
   "cell_type": "code",
   "execution_count": null,
   "metadata": {
    "extensions": {
     "jupyter_dashboards": {
      "version": 1,
      "views": {
       "grid_default": {
        "hidden": true
       },
       "report_default": {
        "hidden": true
       }
      }
     }
    },
    "scrolled": true
   },
   "outputs": [],
   "source": [
    "std_prop_week = prop_week.apply(lambda x: (x*(1-x)/N_collision)**0.5)\n",
    "std_prop_injury_week = prop_injury_week.apply(lambda x: (x*(1-x)/N_injury)**0.5)\n",
    "std_prop_fatal_week = prop_fatal_week.apply(lambda x: (x*(1-x)/N_fatal)**0.5)"
   ]
  },
  {
   "cell_type": "code",
   "execution_count": null,
   "metadata": {
    "extensions": {
     "jupyter_dashboards": {
      "version": 1,
      "views": {
       "grid_default": {
        "col": 4,
        "height": 7,
        "hidden": false,
        "row": 176,
        "width": 4
       },
       "report_default": {
        "hidden": false
       }
      }
     }
    },
    "scrolled": true
   },
   "outputs": [],
   "source": [
    "fig = plt.figure(figsize=(15, 10))\n",
    "# Total\n",
    "plt.bar(prop_week.index-0.3, height = prop_week*100, width = 0.3,\n",
    "        label = 'Total',color = 'darkorange', \n",
    "        yerr = std_prop_week*100, error_kw=dict(ecolor='black', lw=1, capsize=4, capthick=1));\n",
    "\n",
    "# Injured only\n",
    "plt.bar(prop_injury_week.index, height = prop_injury_week*100, width = 0.3, \n",
    "         label = 'Injuries',color = 'orange',\n",
    "       yerr = std_prop_injury_week*100 , error_kw=dict(ecolor='black', lw=1, capsize=4, capthick=1));\n",
    "\n",
    "# At least one fatality\n",
    "plt.bar(prop_fatal_week.index+0.3, height = prop_fatal_week*100, width = 0.3, \n",
    "        label = 'Fatalities', color = 'navajowhite',\n",
    "       yerr = std_prop_fatal_week*100, error_kw=dict(ecolor='black', lw=1, capsize=4, capthick=1));\n",
    "\n",
    "# graph\n",
    "#plt.xlabel('day of the week', fontsize = 15)\n",
    "plt.xticks(np.arange(0,7,1),['Monday','Tuesday','Wednesday','Thursday','Friday','Saturday','Sunday'])\n",
    "plt.xlim(-0.6,7)\n",
    "plt.ylim(0,25)\n",
    "plt.legend()\n",
    "\n",
    "plt.title('Percentage of accidents per day of week',fontsize = 15);\n",
    "fig.savefig('figures/time_week.png', transparent=True, bbox_inches='tight')"
   ]
  },
  {
   "cell_type": "markdown",
   "metadata": {
    "extensions": {
     "jupyter_dashboards": {
      "version": 1,
      "views": {
       "grid_default": {
        "col": 0,
        "height": 4,
        "hidden": false,
        "row": 239,
        "width": 12
       },
       "report_default": {
        "hidden": false
       }
      }
     }
    }
   },
   "source": [
    "There is not much difference between the day of the week. One interesting thing though is that while accidents with no fatality are slightly less frequent on weekends, fatal ones seem to increase (slightly) on weekends."
   ]
  },
  {
   "cell_type": "markdown",
   "metadata": {
    "extensions": {
     "jupyter_dashboards": {
      "version": 1,
      "views": {
       "grid_default": {
        "col": 8,
        "height": 4,
        "hidden": false,
        "row": 177,
        "width": 4
       },
       "report_default": {
        "hidden": false
       }
      }
     }
    }
   },
   "source": [
    "### Month of the year\n"
   ]
  },
  {
   "cell_type": "markdown",
   "metadata": {
    "extensions": {
     "jupyter_dashboards": {
      "version": 1,
      "views": {
       "grid_default": {
        "col": 8,
        "height": 4,
        "hidden": false,
        "row": 181,
        "width": 4
       },
       "report_default": {
        "hidden": false
       }
      }
     }
    }
   },
   "source": [
    "We then extract the corresponding weekday and count the proportion of accidents for each hour:"
   ]
  },
  {
   "cell_type": "code",
   "execution_count": null,
   "metadata": {
    "extensions": {
     "jupyter_dashboards": {
      "version": 1,
      "views": {
       "grid_default": {
        "hidden": true
       },
       "report_default": {
        "hidden": true
       }
      }
     }
    },
    "scrolled": true
   },
   "outputs": [],
   "source": [
    "df_collision['MONTH'] = df_collision['DATE'].apply(lambda x: x.month)\n",
    "df_injury['MONTH'] = df_injury['DATE'].apply(lambda x: x.month)\n",
    "df_fatal['MONTH'] = df_fatal['DATE'].apply(lambda x: x.month)\n",
    "\n",
    "prop_month = df_collision.groupby('MONTH').size()/N_collision\n",
    "prop_injury_month = df_injury.groupby('MONTH').size()/N_injury\n",
    "prop_fatal_month = df_fatal.groupby('MONTH').size()/N_fatal"
   ]
  },
  {
   "cell_type": "markdown",
   "metadata": {
    "extensions": {
     "jupyter_dashboards": {
      "version": 1,
      "views": {
       "grid_default": {
        "col": 4,
        "height": 4,
        "hidden": false,
        "row": 183,
        "width": 4
       },
       "report_default": {
        "hidden": false
       }
      }
     }
    }
   },
   "source": [
    "Let us also compute the standard deviation on the estimated proportion (assuming a multinomial distribution)"
   ]
  },
  {
   "cell_type": "code",
   "execution_count": null,
   "metadata": {
    "extensions": {
     "jupyter_dashboards": {
      "version": 1,
      "views": {
       "grid_default": {
        "hidden": true
       },
       "report_default": {
        "hidden": true
       }
      }
     }
    },
    "scrolled": true
   },
   "outputs": [],
   "source": [
    "std_prop_month = prop_month.apply(lambda x: (x*(1-x)/N_collision)**0.5)\n",
    "std_prop_injury_month = prop_injury_month.apply(lambda x: (x*(1-x)/N_injury)**0.5)\n",
    "std_prop_fatal_month = prop_fatal_month.apply(lambda x: (x*(1-x)/N_fatal)**0.5)"
   ]
  },
  {
   "cell_type": "code",
   "execution_count": null,
   "metadata": {
    "extensions": {
     "jupyter_dashboards": {
      "version": 1,
      "views": {
       "grid_default": {
        "col": 8,
        "height": 7,
        "hidden": false,
        "row": 185,
        "width": 4
       },
       "report_default": {
        "hidden": false
       }
      }
     }
    },
    "scrolled": true
   },
   "outputs": [],
   "source": [
    "fig = plt.figure(figsize=(15, 10))\n",
    "# Total\n",
    "plt.bar(prop_month.index-0.3, height = prop_month*100, width = 0.3,\n",
    "        label = 'Total',color = 'darkorange', \n",
    "        yerr = std_prop_month*100, error_kw=dict(ecolor='black', lw=1, capsize=4, capthick=1));\n",
    "\n",
    "# Injured only\n",
    "plt.bar(prop_injury_month.index, height = prop_injury_month*100, width = 0.3, \n",
    "         label = 'Injuries',color = 'orange',\n",
    "       yerr = std_prop_injury_month*100 , error_kw=dict(ecolor='black', lw=1, capsize=4, capthick=1));\n",
    "\n",
    "# At least one fatality\n",
    "plt.bar(prop_fatal_month.index+0.3, height = prop_fatal_month*100, width = 0.3, \n",
    "        label = 'Fatalities', color = 'navajowhite',\n",
    "       yerr = std_prop_fatal_month*100, error_kw=dict(ecolor='black', lw=1, capsize=4, capthick=1));\n",
    "\n",
    "# graph\n",
    "#plt.xlabel('day of the week', fontsize = 15)\n",
    "plt.xticks(np.arange(1,13,1),['January','February','March','April','May','June',\n",
    "                              'July', 'August', 'September', 'October', 'November', 'December'])\n",
    "plt.xlim(0.4,12.6)\n",
    "plt.ylim(0,13)\n",
    "plt.legend()\n",
    "\n",
    "plt.title('Percentage of accidents per month of year',fontsize = 15);\n",
    "fig.savefig('figures/time_month.png', transparent=True, bbox_inches='tight')"
   ]
  },
  {
   "cell_type": "markdown",
   "metadata": {
    "extensions": {
     "jupyter_dashboards": {
      "version": 1,
      "views": {
       "grid_default": {
        "col": 4,
        "height": 4,
        "hidden": false,
        "row": 187,
        "width": 4
       },
       "report_default": {
        "hidden": false
       }
      }
     }
    }
   },
   "source": [
    "### Day of the year\n"
   ]
  },
  {
   "cell_type": "markdown",
   "metadata": {
    "extensions": {
     "jupyter_dashboards": {
      "version": 1,
      "views": {
       "grid_default": {
        "col": 4,
        "height": 4,
        "hidden": false,
        "row": 191,
        "width": 4
       },
       "report_default": {
        "hidden": false
       }
      }
     }
    }
   },
   "source": [
    "We then extract the corresponding weekday and count the proportion of accidents for each hour:"
   ]
  },
  {
   "cell_type": "code",
   "execution_count": null,
   "metadata": {
    "extensions": {
     "jupyter_dashboards": {
      "version": 1,
      "views": {
       "grid_default": {
        "hidden": true
       },
       "report_default": {
        "hidden": true
       }
      }
     }
    },
    "scrolled": true
   },
   "outputs": [],
   "source": [
    "df_collision['DAY_OF_YEAR'] = df_collision['DATE'].dt.strftime('%m-%d')\n",
    "df_injury['DAY_OF_YEAR'] = df_injury['DATE'].dt.strftime('%m-%d')\n",
    "df_fatal['DAY_OF_YEAR'] = df_fatal['DATE'].dt.strftime('%m-%d')"
   ]
  },
  {
   "cell_type": "code",
   "execution_count": null,
   "metadata": {
    "extensions": {
     "jupyter_dashboards": {
      "version": 1,
      "views": {
       "grid_default": {
        "hidden": true
       },
       "report_default": {
        "hidden": true
       }
      }
     }
    },
    "scrolled": true
   },
   "outputs": [],
   "source": [
    "df_collision = df_collision[df_collision['DAY_OF_YEAR']!= '02-29']\n",
    "df_injury = df_injury[df_injury['DAY_OF_YEAR']!= '02-29']\n",
    "df_fatal = df_fatal[df_fatal['DAY_OF_YEAR']!= '02-29']\n",
    "\n",
    "df_collision['DAY_OF_YEAR'] = pd.to_datetime(df_collision['DAY_OF_YEAR'], format='%m-%d')\n",
    "df_injury['DAY_OF_YEAR'] = pd.to_datetime(df_injury['DAY_OF_YEAR'], format='%m-%d')\n",
    "df_fatal['DAY_OF_YEAR'] = pd.to_datetime(df_fatal['DAY_OF_YEAR'], format='%m-%d')"
   ]
  },
  {
   "cell_type": "code",
   "execution_count": null,
   "metadata": {
    "extensions": {
     "jupyter_dashboards": {
      "version": 1,
      "views": {
       "grid_default": {
        "hidden": true
       },
       "report_default": {
        "hidden": true
       }
      }
     }
    },
    "scrolled": true
   },
   "outputs": [],
   "source": [
    "prop_date = df_collision.groupby('DAY_OF_YEAR').size()/N_collision\n",
    "prop_injury_date = df_injury.groupby('DAY_OF_YEAR').size()/N_injury\n",
    "prop_fatal_date = df_fatal.groupby('DAY_OF_YEAR').size()/N_fatal"
   ]
  },
  {
   "cell_type": "code",
   "execution_count": null,
   "metadata": {
    "extensions": {
     "jupyter_dashboards": {
      "version": 1,
      "views": {
       "grid_default": {
        "col": 8,
        "height": 7,
        "hidden": false,
        "row": 192,
        "width": 4
       },
       "report_default": {
        "hidden": false
       }
      }
     }
    },
    "scrolled": false
   },
   "outputs": [],
   "source": [
    "fig, ax = plt.subplots(figsize=(15, 10))\n",
    "ax.plot(prop_date.index.date,prop_date)\n",
    "\n",
    "months = mdates.MonthLocator()  # every month\n",
    "days = mdates.DayLocator()\n",
    "monthsFmt = mdates.DateFormatter('%b')\n",
    "\n",
    "ax.xaxis.set_major_locator(months)\n",
    "ax.xaxis.set_minor_locator(days)\n",
    "ax.xaxis.set_major_formatter(monthsFmt)\n",
    "\n",
    "plt.title('Percentage of accidents per day of year',fontsize = 15);"
   ]
  },
  {
   "cell_type": "markdown",
   "metadata": {},
   "source": [
    "Interestingly, we see three troughs on main holidays: January 1st, July 4th and December 25th."
   ]
  },
  {
   "cell_type": "markdown",
   "metadata": {
    "extensions": {
     "jupyter_dashboards": {
      "version": 1,
      "views": {
       "grid_default": {
        "col": 8,
        "height": 4,
        "hidden": false,
        "row": 199,
        "width": 4
       },
       "report_default": {
        "hidden": false
       }
      }
     }
    }
   },
   "source": [
    "#### Zooming On December"
   ]
  },
  {
   "cell_type": "code",
   "execution_count": null,
   "metadata": {
    "extensions": {
     "jupyter_dashboards": {
      "version": 1,
      "views": {
       "grid_default": {
        "col": 4,
        "height": 7,
        "hidden": false,
        "row": 202,
        "width": 4
       },
       "report_default": {
        "hidden": false
       }
      }
     }
    },
    "scrolled": true
   },
   "outputs": [],
   "source": [
    "prop_december = prop_date[prop_date.index.month == 12]\n",
    "\n",
    "fig, ax = plt.subplots(figsize=(15, 10))\n",
    "ax.plot(prop_december.index.date,prop_december)\n",
    "days = mdates.DayLocator()\n",
    "monthsFmt = mdates.DateFormatter('%d')\n",
    "\n",
    "ax.xaxis.set_major_locator(days)\n",
    "ax.xaxis.set_major_formatter(monthsFmt)\n",
    "\n",
    "plt.title('Percentage of accidents in December',fontsize = 15);"
   ]
  },
  {
   "cell_type": "markdown",
   "metadata": {
    "extensions": {
     "jupyter_dashboards": {
      "version": 1,
      "views": {
       "grid_default": {
        "col": 8,
        "height": 4,
        "hidden": false,
        "row": 203,
        "width": 4
       },
       "report_default": {
        "hidden": false
       }
      }
     }
    }
   },
   "source": [
    "There is a clear trough on Christmas day"
   ]
  },
  {
   "cell_type": "markdown",
   "metadata": {
    "extensions": {
     "jupyter_dashboards": {
      "version": 1,
      "views": {
       "grid_default": {
        "col": 8,
        "height": 4,
        "hidden": false,
        "row": 207,
        "width": 4
       },
       "report_default": {
        "hidden": false
       }
      }
     }
    }
   },
   "source": [
    "#### Zooming On July"
   ]
  },
  {
   "cell_type": "code",
   "execution_count": null,
   "metadata": {
    "extensions": {
     "jupyter_dashboards": {
      "version": 1,
      "views": {
       "grid_default": {
        "col": 4,
        "height": 7,
        "hidden": false,
        "row": 209,
        "width": 4
       },
       "report_default": {
        "hidden": false
       }
      }
     }
    },
    "scrolled": true
   },
   "outputs": [],
   "source": [
    "prop_july = prop_date[prop_date.index.month == 7]\n",
    "\n",
    "fig, ax = plt.subplots(figsize=(15, 10))\n",
    "ax.plot(prop_july.index.date,prop_july)\n",
    "days = mdates.DayLocator()\n",
    "monthsFmt = mdates.DateFormatter('%d')\n",
    "\n",
    "ax.xaxis.set_major_locator(days)\n",
    "ax.xaxis.set_major_formatter(monthsFmt)\n",
    "\n",
    "plt.title('Percentage of accidents in July',fontsize = 15);"
   ]
  },
  {
   "cell_type": "markdown",
   "metadata": {
    "extensions": {
     "jupyter_dashboards": {
      "version": 1,
      "views": {
       "grid_default": {
        "col": 8,
        "height": 4,
        "hidden": false,
        "row": 211,
        "width": 4
       },
       "report_default": {
        "hidden": false
       }
      }
     }
    }
   },
   "source": [
    "There is a clear trough on July 4th"
   ]
  },
  {
   "cell_type": "markdown",
   "metadata": {
    "extensions": {
     "jupyter_dashboards": {
      "version": 1,
      "views": {
       "grid_default": {
        "col": 0,
        "height": 4,
        "hidden": false,
        "row": 243,
        "width": 4
       },
       "report_default": {
        "hidden": false
       }
      }
     }
    }
   },
   "source": [
    "#### Zooming On January"
   ]
  },
  {
   "cell_type": "code",
   "execution_count": null,
   "metadata": {
    "extensions": {
     "jupyter_dashboards": {
      "version": 1,
      "views": {
       "grid_default": {
        "col": 4,
        "height": 7,
        "hidden": false,
        "row": 243,
        "width": 4
       },
       "report_default": {
        "hidden": false
       }
      }
     }
    },
    "scrolled": true
   },
   "outputs": [],
   "source": [
    "prop_january = prop_date[prop_date.index.month == 1]\n",
    "\n",
    "fig, ax = plt.subplots(figsize=(15, 10))\n",
    "ax.plot(prop_january.index.date,prop_january)\n",
    "days = mdates.DayLocator()\n",
    "monthsFmt = mdates.DateFormatter('%d')\n",
    "\n",
    "ax.xaxis.set_major_locator(days)\n",
    "ax.xaxis.set_major_formatter(monthsFmt)\n",
    "\n",
    "plt.title('Percentage of accidents in January',fontsize = 15);"
   ]
  },
  {
   "cell_type": "markdown",
   "metadata": {
    "extensions": {
     "jupyter_dashboards": {
      "version": 1,
      "views": {
       "grid_default": {
        "col": 8,
        "height": 4,
        "hidden": false,
        "row": 243,
        "width": 4
       },
       "report_default": {
        "hidden": false
       }
      }
     }
    }
   },
   "source": [
    "There is a clear trough on January 1st"
   ]
  },
  {
   "cell_type": "markdown",
   "metadata": {
    "extensions": {
     "jupyter_dashboards": {
      "version": 1,
      "views": {
       "grid_default": {
        "col": 0,
        "height": 4,
        "hidden": false,
        "row": 247,
        "width": 4
       },
       "report_default": {
        "hidden": false
       }
      }
     }
    }
   },
   "source": [
    "## Why ?"
   ]
  },
  {
   "cell_type": "code",
   "execution_count": null,
   "metadata": {
    "extensions": {
     "jupyter_dashboards": {
      "version": 1,
      "views": {
       "grid_default": {
        "hidden": true
       },
       "report_default": {
        "hidden": true
       }
      }
     }
    },
    "scrolled": true
   },
   "outputs": [],
   "source": [
    "CF = ['CONTRIBUTING_FACTOR_VEHICLE_1',\n",
    "      'CONTRIBUTING_FACTOR_VEHICLE_2',\n",
    "      'CONTRIBUTING_FACTOR_VEHICLE_3',\n",
    "      'CONTRIBUTING_FACTOR_VEHICLE_4',\n",
    "      'CONTRIBUTING_FACTOR_VEHICLE_5']"
   ]
  },
  {
   "cell_type": "code",
   "execution_count": null,
   "metadata": {
    "extensions": {
     "jupyter_dashboards": {
      "version": 1,
      "views": {
       "grid_default": {
        "hidden": true
       },
       "report_default": {
        "hidden": true
       }
      }
     }
    },
    "scrolled": true
   },
   "outputs": [],
   "source": [
    "all_causes = list(df_collision[CF].fillna('').unstack().unique())\n",
    "all_causes.remove('')\n",
    "all_causes.remove('Unspecified')"
   ]
  },
  {
   "cell_type": "code",
   "execution_count": null,
   "metadata": {
    "extensions": {
     "jupyter_dashboards": {
      "version": 1,
      "views": {
       "grid_default": {
        "hidden": true
       },
       "report_default": {
        "hidden": true
       }
      }
     }
    },
    "scrolled": true
   },
   "outputs": [],
   "source": [
    "def extract_causes(filter_ = None):\n",
    "    if filter_ is not None:\n",
    "        df = df_collision[filter_] # data frame with filter applied\n",
    "    else:\n",
    "        df = df_collision[:]\n",
    "    \n",
    "    Ncauses = len(df)*5 - df[CF].isnull().unstack().sum()\n",
    "    for cf in CF:\n",
    "        \n",
    "        causes_v = df.groupby(cf).size()/Ncauses\n",
    "        causes_v = causes_v.add(pd.Series(np.zeros(len(all_causes)),index = all_causes),fill_value = 0)\n",
    "        \n",
    "        try:\n",
    "            prop_causes = prop_causes + causes_v\n",
    "        except:\n",
    "            prop_causes = causes_v\n",
    "        \n",
    "    return prop_causes[all_causes]"
   ]
  },
  {
   "cell_type": "markdown",
   "metadata": {
    "extensions": {
     "jupyter_dashboards": {
      "version": 1,
      "views": {
       "grid_default": {
        "col": 8,
        "height": 4,
        "hidden": false,
        "row": 247,
        "width": 4
       },
       "report_default": {
        "hidden": false
       }
      }
     }
    }
   },
   "source": [
    "### Distinguishing between injured/fatal"
   ]
  },
  {
   "cell_type": "code",
   "execution_count": null,
   "metadata": {
    "extensions": {
     "jupyter_dashboards": {
      "version": 1,
      "views": {
       "grid_default": {
        "hidden": true
       },
       "report_default": {
        "hidden": true
       }
      }
     }
    },
    "scrolled": true
   },
   "outputs": [],
   "source": [
    "prop_causes = extract_causes()\n",
    "prop_causes.sort_values(ascending=False,inplace=True)\n",
    "\n",
    "prop_injury_causes = extract_causes(df_collision['NUMBER_OF_PERSONS_INJURED'] > 0)\n",
    "prop_injury_causes = prop_injury_causes[prop_causes.index]\n",
    "\n",
    "prop_fatal_causes = extract_causes(df_collision['NUMBER_OF_PERSONS_KILLED'] > 0)\n",
    "prop_fatal_causes = prop_fatal_causes[prop_causes.index]"
   ]
  },
  {
   "cell_type": "code",
   "execution_count": null,
   "metadata": {
    "extensions": {
     "jupyter_dashboards": {
      "version": 1,
      "views": {
       "grid_default": {
        "hidden": true
       },
       "report_default": {
        "hidden": true
       }
      }
     }
    },
    "scrolled": true
   },
   "outputs": [],
   "source": [
    "# std_prop_causes = prop_causes.apply(lambda x: (x*(1-x)/N_collision)**0.5)\n",
    "# std_prop_injury_causes = prop_injury_causes.apply(lambda x: (x*(1-x)/N_injury)**0.5)\n",
    "# std_prop_fatal_causes = prop_fatal_causes.apply(lambda x: (x*(1-x)/N_fatal)**0.5)"
   ]
  },
  {
   "cell_type": "code",
   "execution_count": null,
   "metadata": {
    "extensions": {
     "jupyter_dashboards": {
      "version": 1,
      "views": {
       "grid_default": {
        "col": 4,
        "height": 10,
        "hidden": false,
        "row": 250,
        "width": 4
       },
       "report_default": {
        "hidden": false
       }
      }
     }
    },
    "scrolled": true
   },
   "outputs": [],
   "source": [
    "fig = plt.figure(figsize=(15, 10))\n",
    "\n",
    "\n",
    "x_causes = np.arange(1,len(all_causes)+1)\n",
    "\n",
    "plt.bar(x_causes-0.3, height = prop_causes*100, width = 0.3,\n",
    "        label = 'Total',color = 'darkorange')\n",
    " \n",
    "#         yerr = std_prop_causes*100, error_kw=dict(ecolor='black', lw=1, capsize=2, capthick=1));\n",
    "\n",
    "# Injured only\n",
    "plt.bar(x_causes, height = prop_injury_causes*100, width = 0.3, \n",
    "         label = 'Injuries',color = 'orange')\n",
    "#        yerr = std_prop_injury_causes*100, error_kw=dict(ecolor='black', lw=1, capsize=2, capthick=1));\n",
    "\n",
    "# At least one fatality\n",
    "plt.bar(x_causes+0.3, height = prop_fatal_causes*100, width = 0.3, \n",
    "        label = 'Fatalities', color = 'navajowhite')\n",
    "#        yerr = np.array(std_prop_fatal_causes)*100, error_kw=dict(ecolor='black', lw=1, capsize=2, capthick=1));\n",
    "\n",
    "plt.legend()\n",
    "\n",
    "plt.xticks(x_causes, prop_causes.index,rotation = 90);\n",
    "plt.title('Percentage of accidents per cause',fontsize = 15);\n",
    "fig.savefig('figures/causes.png', transparent=True, bbox_inches='tight')"
   ]
  },
  {
   "cell_type": "markdown",
   "metadata": {
    "extensions": {
     "jupyter_dashboards": {
      "version": 1,
      "views": {
       "grid_default": {
        "col": 0,
        "height": 8,
        "hidden": false,
        "row": 260,
        "width": 12
       },
       "report_default": {
        "hidden": false
       }
      }
     }
    }
   },
   "source": [
    "We can extract the main causes of accidents\n",
    "\n",
    "   1) Driver inattention  <br>\n",
    "   2) Failing to give the right-of-way\n",
    "\n",
    "In addition, we can see that there are additional causes when looking at fatal accidents:\n",
    " \n",
    "   1) Traffic control disregarded <br>\n",
    "   2) Unsage speed <br>\n",
    "   3) Passenger distration <br>\n",
    "   4) Alcohol <br>"
   ]
  },
  {
   "cell_type": "markdown",
   "metadata": {
    "extensions": {
     "jupyter_dashboards": {
      "version": 1,
      "views": {
       "grid_default": {
        "col": 0,
        "height": 4,
        "hidden": false,
        "row": 251,
        "width": 4
       },
       "report_default": {
        "hidden": false
       }
      }
     }
    }
   },
   "source": [
    "### Distinguishing between Day and Night"
   ]
  },
  {
   "cell_type": "code",
   "execution_count": null,
   "metadata": {
    "extensions": {
     "jupyter_dashboards": {
      "version": 1,
      "views": {
       "grid_default": {
        "hidden": true
       },
       "report_default": {
        "hidden": true
       }
      }
     }
    },
    "scrolled": true
   },
   "outputs": [],
   "source": [
    "begin_night = datetime.datetime.strptime('22:00','%H:%M').time()\n",
    "end_night = datetime.datetime.strptime('5:00','%H:%M').time()"
   ]
  },
  {
   "cell_type": "code",
   "execution_count": null,
   "metadata": {
    "extensions": {
     "jupyter_dashboards": {
      "version": 1,
      "views": {
       "grid_default": {
        "hidden": true
       },
       "report_default": {
        "hidden": true
       }
      }
     }
    },
    "scrolled": true
   },
   "outputs": [],
   "source": [
    "night_filter = ((df_collision['TIME'] < end_night) | (df_collision['TIME'] > begin_night))"
   ]
  },
  {
   "cell_type": "code",
   "execution_count": null,
   "metadata": {
    "extensions": {
     "jupyter_dashboards": {
      "version": 1,
      "views": {
       "grid_default": {
        "hidden": true
       },
       "report_default": {
        "hidden": true
       }
      }
     }
    },
    "scrolled": true
   },
   "outputs": [],
   "source": [
    "prop_night_causes = extract_causes(night_filter)\n",
    "prop_night_causes.sort_values(ascending=False,inplace=True)\n",
    "\n",
    "prop_day_causes = extract_causes(~night_filter)\n",
    "prop_day_causes = prop_day_causes[prop_night_causes.index]"
   ]
  },
  {
   "cell_type": "code",
   "execution_count": null,
   "metadata": {
    "extensions": {
     "jupyter_dashboards": {
      "version": 1,
      "views": {
       "grid_default": {
        "col": 0,
        "height": 10,
        "hidden": false,
        "row": 268,
        "width": 4
       },
       "report_default": {
        "hidden": false
       }
      }
     }
    },
    "scrolled": true
   },
   "outputs": [],
   "source": [
    "fig = plt.figure(figsize=(15, 10))\n",
    "\n",
    "\n",
    "x_causes = np.arange(1,len(all_causes)+1)\n",
    "\n",
    "plt.bar(x_causes-0.2, height = prop_night_causes*100, width = 0.4,\n",
    "        label = 'Night',color = 'darkorange')\n",
    " \n",
    "#         yerr = std_prop_causes*100, error_kw=dict(ecolor='black', lw=1, capsize=2, capthick=1));\n",
    "\n",
    "# Injured only\n",
    "plt.bar(x_causes+0.2, height = prop_day_causes*100, width = 0.4, \n",
    "         label = 'Day',color = 'navajowhite')\n",
    "#        yerr = std_prop_injury_causes*100, error_kw=dict(ecolor='black', lw=1, capsize=2, capthick=1));\n",
    "\n",
    "\n",
    "plt.legend()\n",
    "\n",
    "plt.xticks(x_causes, prop_night_causes.index,rotation = 90);\n",
    "plt.title('Percentage of accidents per cause',fontsize = 15);\n",
    "fig.savefig('figures/causes_nightday.png', transparent=True, bbox_inches='tight')"
   ]
  },
  {
   "cell_type": "code",
   "execution_count": null,
   "metadata": {},
   "outputs": [],
   "source": []
  }
 ],
 "metadata": {
  "extensions": {
   "jupyter_dashboards": {
    "activeView": "report_default",
    "version": 1,
    "views": {
     "grid_default": {
      "cellMargin": 10,
      "defaultCellHeight": 20,
      "maxColumns": 12,
      "name": "grid",
      "type": "grid"
     },
     "report_default": {
      "name": "report",
      "type": "report"
     }
    }
   }
  },
  "kernelspec": {
   "display_name": "Python 3",
   "language": "python",
   "name": "python3"
  },
  "language_info": {
   "codemirror_mode": {
    "name": "ipython",
    "version": 3
   },
   "file_extension": ".py",
   "mimetype": "text/x-python",
   "name": "python",
   "nbconvert_exporter": "python",
   "pygments_lexer": "ipython3",
   "version": "3.6.5"
  },
  "toc": {
   "base_numbering": 1,
   "nav_menu": {
    "height": "561px",
    "width": "300px"
   },
   "number_sections": true,
   "sideBar": true,
   "skip_h1_title": true,
   "title_cell": "Table of Contents",
   "title_sidebar": "Contents",
   "toc_cell": false,
   "toc_position": {
    "height": "432px",
    "left": "62px",
    "top": "52px",
    "width": "165px"
   },
   "toc_section_display": true,
   "toc_window_display": true
  }
 },
 "nbformat": 4,
 "nbformat_minor": 2
}
